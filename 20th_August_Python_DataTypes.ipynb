{
 "cells": [
  {
   "cell_type": "markdown",
   "id": "8e3d175f",
   "metadata": {},
   "source": [
    "# TOPIC: String Based Assignment Problem"
   ]
  },
  {
   "cell_type": "markdown",
   "id": "1ce50f2d",
   "metadata": {},
   "source": [
    "1. Write a program to reverse a string."
   ]
  },
  {
   "cell_type": "code",
   "execution_count": 1,
   "id": "aa807369",
   "metadata": {},
   "outputs": [
    {
     "data": {
      "text/plain": [
       "'nohtyp'"
      ]
     },
     "execution_count": 1,
     "metadata": {},
     "output_type": "execute_result"
    }
   ],
   "source": [
    "# Stored a string in a veriable 'st1'\n",
    "st1 = \"python\"\n",
    "# To reverse the string--->\n",
    "st1[::-1]"
   ]
  },
  {
   "cell_type": "markdown",
   "id": "aa64155b",
   "metadata": {},
   "source": [
    "2. Check if a string is a palindrome."
   ]
  },
  {
   "cell_type": "code",
   "execution_count": 2,
   "id": "6c99f09b",
   "metadata": {},
   "outputs": [
    {
     "name": "stdout",
     "output_type": "stream",
     "text": [
      "Enter a string: I am a Data Scientist and I work with Data\n"
     ]
    },
    {
     "data": {
      "text/plain": [
       "False"
      ]
     },
     "execution_count": 2,
     "metadata": {},
     "output_type": "execute_result"
    }
   ],
   "source": [
    "# lets take string as a input\n",
    "st2 = input(\"Enter a string: \").lower()\n",
    "# Here the data type of the input string will in string so no need to change to string.\n",
    "# Checking if the string is palindrome \n",
    "st2 == st2[::-1].lower()\n",
    "# If the string is palindrome then the outpur will be \"True\" else \"False\""
   ]
  },
  {
   "cell_type": "markdown",
   "id": "2dda228f",
   "metadata": {},
   "source": [
    "3. Convert a string to uppercase."
   ]
  },
  {
   "cell_type": "code",
   "execution_count": 3,
   "id": "829ad168",
   "metadata": {},
   "outputs": [
    {
     "name": "stdout",
     "output_type": "stream",
     "text": [
      "Enter a string: I am a Data Scientist and I work with Data\n"
     ]
    },
    {
     "data": {
      "text/plain": [
       "'I AM A DATA SCIENTIST AND I WORK WITH DATA'"
      ]
     },
     "execution_count": 3,
     "metadata": {},
     "output_type": "execute_result"
    }
   ],
   "source": [
    "# lets take string as a input\n",
    "st3 = input(\"Enter a string: \")\n",
    "# Converting the string to uppercase--->\n",
    "st3.upper()"
   ]
  },
  {
   "cell_type": "markdown",
   "id": "1b5a977d",
   "metadata": {},
   "source": [
    "4. Convert a string to lowercase."
   ]
  },
  {
   "cell_type": "code",
   "execution_count": 4,
   "id": "56756c1e",
   "metadata": {},
   "outputs": [
    {
     "name": "stdout",
     "output_type": "stream",
     "text": [
      "Enter a string: I am a Data Scientist and I work with Data\n"
     ]
    },
    {
     "data": {
      "text/plain": [
       "'i am a data scientist and i work with data'"
      ]
     },
     "execution_count": 4,
     "metadata": {},
     "output_type": "execute_result"
    }
   ],
   "source": [
    "# lets take string as a input\n",
    "st4 = input(\"Enter a string: \")\n",
    "# Converting the string to uppercase--->\n",
    "st4.lower()"
   ]
  },
  {
   "cell_type": "markdown",
   "id": "a605aa25",
   "metadata": {},
   "source": [
    "5. Count the number of vowels in a string."
   ]
  },
  {
   "cell_type": "code",
   "execution_count": 5,
   "id": "4fdbade7",
   "metadata": {},
   "outputs": [
    {
     "name": "stdout",
     "output_type": "stream",
     "text": [
      "Enter a string: I am a Data Scientist and I work with Data\n",
      "14\n"
     ]
    }
   ],
   "source": [
    "# Solving it by using loops--->\n",
    "# Giving vowels a variable name as vowels and taking string as a input\n",
    "vowels = \"aeiou\"\n",
    "st5 = input(\"Enter a string: \").lower()\n",
    "# Taking count \"0\"\n",
    "count = 0\n",
    "\n",
    "# Puting each elements of string in \"for\" loop and storing it ot \"i\"\n",
    "for i in st5:\n",
    "    # Puting each elements of vowels in \"for\" loop and storing it ot \"j\"\n",
    "    for j in vowels:\n",
    "        # Comparting every elements of vowels and string in a condition with \"if\"\n",
    "        if j == i :\n",
    "            count += 1\n",
    "\n",
    "print(count) "
   ]
  },
  {
   "cell_type": "markdown",
   "id": "cbd22159",
   "metadata": {},
   "source": [
    "6. Count the number of consonants in a string."
   ]
  },
  {
   "cell_type": "code",
   "execution_count": 6,
   "id": "f4144404",
   "metadata": {},
   "outputs": [
    {
     "name": "stdout",
     "output_type": "stream",
     "text": [
      "Enter a string: I am a Data Scientist and I work with Data\n",
      "19\n"
     ]
    }
   ],
   "source": [
    "# Solving it using above conditions--\n",
    "\n",
    "consonants = \"bcdfghjklmnpqrstvwxyz\"\n",
    "st6 = input(\"Enter a string: \").lower()\n",
    "count = 0\n",
    "\n",
    "for i in st6: \n",
    "    for j in consonants:\n",
    "        if j == i :\n",
    "            count += 1\n",
    "\n",
    "print(count) "
   ]
  },
  {
   "cell_type": "markdown",
   "id": "d10e38aa",
   "metadata": {},
   "source": [
    "7. Remove all whitespaces from a string."
   ]
  },
  {
   "cell_type": "code",
   "execution_count": 7,
   "id": "15da4505",
   "metadata": {},
   "outputs": [
    {
     "name": "stdout",
     "output_type": "stream",
     "text": [
      "Enter a string: I am a Data Scientist and I work with Data\n",
      "IamaDataScientistandIworkwithData\n"
     ]
    }
   ],
   "source": [
    "# lets take string as a input\n",
    "st7 = input(\"Enter a string: \")\n",
    "# Here I used \"replace()\"\n",
    "print(st7.replace(\" \",\"\"))"
   ]
  },
  {
   "cell_type": "code",
   "execution_count": null,
   "id": "4ea49cfc",
   "metadata": {},
   "outputs": [],
   "source": []
  },
  {
   "cell_type": "markdown",
   "id": "befb7a67",
   "metadata": {},
   "source": [
    "8. Find the length of a string without using the `len()` function."
   ]
  },
  {
   "cell_type": "code",
   "execution_count": 8,
   "id": "ecec4d27",
   "metadata": {},
   "outputs": [
    {
     "name": "stdout",
     "output_type": "stream",
     "text": [
      "Enter a string: I am a Data Scientist and I work with Data\n",
      "42\n"
     ]
    }
   ],
   "source": [
    "# lets take string as a input\n",
    "st8 = input(\"Enter a string: \")\n",
    "count = 0\n",
    "\n",
    "# Using \"for\" loop\n",
    "for i in st8:\n",
    "    count += 1\n",
    "    \n",
    "print(count)"
   ]
  },
  {
   "cell_type": "code",
   "execution_count": null,
   "id": "b4c98703",
   "metadata": {},
   "outputs": [],
   "source": []
  },
  {
   "cell_type": "markdown",
   "id": "c3c63a1c",
   "metadata": {},
   "source": [
    "9. Check if a string contains a specific word."
   ]
  },
  {
   "cell_type": "code",
   "execution_count": 9,
   "id": "a7b8cd6d",
   "metadata": {},
   "outputs": [
    {
     "name": "stdout",
     "output_type": "stream",
     "text": [
      "Enter the string : I am a Data Scientist and I work with Data\n",
      "Enter the specific word : Data\n",
      "The string contains the word :  data\n"
     ]
    }
   ],
   "source": [
    "# Taking a string and specific word as a input\n",
    "st9 = input(\"Enter the string : \").lower()\n",
    "specific_word = input(\"Enter the specific word : \").lower()\n",
    "\n",
    "# using if statement...\n",
    "if specific_word in st9:\n",
    "    print(f\"The string contains the word : \",specific_word)\n",
    "else:\n",
    "    print(f\"The string do not contains the word : \",specific_word)"
   ]
  },
  {
   "cell_type": "code",
   "execution_count": null,
   "id": "44ba869f",
   "metadata": {},
   "outputs": [],
   "source": []
  },
  {
   "cell_type": "markdown",
   "id": "7b46486d",
   "metadata": {},
   "source": [
    "10. Replace a word in a string with another word."
   ]
  },
  {
   "cell_type": "code",
   "execution_count": 10,
   "id": "0aff25f9",
   "metadata": {},
   "outputs": [
    {
     "name": "stdout",
     "output_type": "stream",
     "text": [
      "Enter the string : I am a Data Scientist and I work with Data\n",
      "Data\n",
      "abc\n",
      "I am a abc Scientist and I work with abc\n"
     ]
    }
   ],
   "source": [
    "# Taking a \"string\" and \"word to replace\" and \"word\" as a input\n",
    "st10 = input(\"Enter the string : \")\n",
    "word_to_replace = input(\"Word to replace : \")\n",
    "word = input(\"Enter the word : \")\n",
    "\n",
    "s = st10.replace(word_to_replace,word)\n",
    "print(s)"
   ]
  },
  {
   "cell_type": "code",
   "execution_count": null,
   "id": "347916cd",
   "metadata": {},
   "outputs": [],
   "source": []
  },
  {
   "cell_type": "markdown",
   "id": "0fcd2a08",
   "metadata": {},
   "source": [
    "11. Count the occurrences of a word in a string."
   ]
  },
  {
   "cell_type": "code",
   "execution_count": 11,
   "id": "d8d1a0c4",
   "metadata": {},
   "outputs": [
    {
     "name": "stdout",
     "output_type": "stream",
     "text": [
      "I am a Data Scientist and I work with Data\n",
      "Data\n"
     ]
    },
    {
     "data": {
      "text/plain": [
       "2"
      ]
     },
     "execution_count": 11,
     "metadata": {},
     "output_type": "execute_result"
    }
   ],
   "source": [
    "st = input(\"Enter a string : \")\n",
    "word = input(\"Occurrence of the word :\")\n",
    "\n",
    "st.count(word)"
   ]
  },
  {
   "cell_type": "code",
   "execution_count": null,
   "id": "21bcd442",
   "metadata": {},
   "outputs": [],
   "source": []
  },
  {
   "cell_type": "markdown",
   "id": "a8139185",
   "metadata": {},
   "source": [
    "12. Find the first occurrence of a word in a string.\n"
   ]
  },
  {
   "cell_type": "code",
   "execution_count": 12,
   "id": "7089093d",
   "metadata": {},
   "outputs": [
    {
     "name": "stdout",
     "output_type": "stream",
     "text": [
      "Enter a string : I am a Data Scientist and I work with Data\n",
      "Enter the word : Data\n",
      "The first occurrence of 'Data' starts at index 7.\n"
     ]
    }
   ],
   "source": [
    "# Taking string and word as an input\n",
    "st = input(\"Enter a string : \")\n",
    "word = input(\"Enter the word : \")\n",
    "\n",
    "# Here for the index of the word I used a variable \"new\"\n",
    "new = st.find(word)\n",
    "\n",
    "# Using if statement to find if the \"word\" is present in the \"st\".\n",
    "# Here -1 is used because it indicates \"not found\" or \"invalid index\" and so it is \"!= -1\"\n",
    "if word != -1:\n",
    "    print(f\"The first occurrence of '{word}' starts at index {new}.\")\n",
    "else:\n",
    "    print(f\"{word} is not found in the input string\")"
   ]
  },
  {
   "cell_type": "code",
   "execution_count": null,
   "id": "f8e1c7c6",
   "metadata": {},
   "outputs": [],
   "source": []
  },
  {
   "cell_type": "markdown",
   "id": "3dcaa153",
   "metadata": {},
   "source": [
    "13. Find the last occurrence of a word in a string."
   ]
  },
  {
   "cell_type": "code",
   "execution_count": 13,
   "id": "a9ca7a6c",
   "metadata": {},
   "outputs": [
    {
     "name": "stdout",
     "output_type": "stream",
     "text": [
      "Enter a string : I am a Data Scientist and I work with Data\n",
      "Enter the word : Data\n",
      "The last occurrence of 'Data' starts at index 38.\n"
     ]
    }
   ],
   "source": [
    "# Taking string and word as an input\n",
    "st = input(\"Enter a string : \")\n",
    "word = input(\"Enter the word : \")\n",
    "\n",
    "# From the above solution replaced \"find()\" module with \"rfind()\" \n",
    "new = st.rfind(word)\n",
    "\n",
    "if word != -1:\n",
    "    print(f\"The last occurrence of '{word}' starts at index {new}.\")\n",
    "else:\n",
    "    print(f\"{word} is not found in the input string\")"
   ]
  },
  {
   "cell_type": "code",
   "execution_count": null,
   "id": "7d288a58",
   "metadata": {},
   "outputs": [],
   "source": []
  },
  {
   "cell_type": "markdown",
   "id": "f755dabe",
   "metadata": {},
   "source": [
    "14. Split a string into a list of words."
   ]
  },
  {
   "cell_type": "code",
   "execution_count": 14,
   "id": "515b2830",
   "metadata": {},
   "outputs": [
    {
     "name": "stdout",
     "output_type": "stream",
     "text": [
      "Enter a string : I am a Data Scientist and I work with Data\n",
      "['I', 'am', 'a', 'Data', 'Scientist', 'and', 'I', 'work', 'with', 'Data']\n"
     ]
    }
   ],
   "source": [
    "# Taking string as an input\n",
    "st = input(\"Enter a string : \")\n",
    "l = []\n",
    "\n",
    "for i in st.split():\n",
    "    l.append(i)\n",
    "print(l)\n",
    "\n",
    "# \"l\" as a empty string.\n",
    "# for loop for taking each word in the \"st\" and appending the words in the empty string\"l\" \n",
    "# with the append() module and printing the list \"l\""
   ]
  },
  {
   "cell_type": "code",
   "execution_count": null,
   "id": "085111df",
   "metadata": {},
   "outputs": [],
   "source": []
  },
  {
   "cell_type": "markdown",
   "id": "4c542b22",
   "metadata": {},
   "source": [
    "15. Join a list of words into a string."
   ]
  },
  {
   "cell_type": "code",
   "execution_count": 15,
   "id": "ddeabf8c",
   "metadata": {},
   "outputs": [
    {
     "name": "stdout",
     "output_type": "stream",
     "text": [
      "IamadatascientistandIworkwithdata\n"
     ]
    }
   ],
   "source": [
    "# Joining the words of list into a string using \"for loop\".\n",
    "li = ['I', 'am', 'a', 'data', 'scientist', 'and', 'I', 'work', 'with', 'data']\n",
    "st = (\"\") # Empty string where we will add all the elements of \"li\"\n",
    "\n",
    "for i in li:\n",
    "    st += i\n",
    "print(st)\n",
    "# But here there is no space in the output"
   ]
  },
  {
   "cell_type": "code",
   "execution_count": 16,
   "id": "62d60424",
   "metadata": {},
   "outputs": [
    {
     "data": {
      "text/plain": [
       "'I am a data scientist and I work with data'"
      ]
     },
     "execution_count": 16,
     "metadata": {},
     "output_type": "execute_result"
    }
   ],
   "source": [
    "# Joining the words of list into a string using \"join()\".\n",
    "li = ['I', 'am', 'a', 'data', 'scientist', 'and', 'I', 'work', 'with', 'data']\n",
    "lis = \" \"\n",
    "lis.join(li)"
   ]
  },
  {
   "cell_type": "code",
   "execution_count": null,
   "id": "dd2f9d0f",
   "metadata": {},
   "outputs": [],
   "source": []
  },
  {
   "cell_type": "markdown",
   "id": "098ff931",
   "metadata": {},
   "source": [
    "16. Convert a string where words are separated by spaces to one where words\n",
    "are separated by underscores.\n"
   ]
  },
  {
   "cell_type": "code",
   "execution_count": 17,
   "id": "bd09477d",
   "metadata": {},
   "outputs": [
    {
     "data": {
      "text/plain": [
       "'I_am_a_data_scientist_and_I_work_with_data'"
      ]
     },
     "execution_count": 17,
     "metadata": {},
     "output_type": "execute_result"
    }
   ],
   "source": [
    "# \"st\" is the string where words are sreperated by spaces(\" \")\n",
    "st = 'I am a data scientist and I work with data'\n",
    "\n",
    "# Using \"replace()\" to replace \" \" with \"_\"\n",
    "st.replace(\" \",\"_\")"
   ]
  },
  {
   "cell_type": "code",
   "execution_count": null,
   "id": "222bc89f",
   "metadata": {},
   "outputs": [],
   "source": []
  },
  {
   "cell_type": "markdown",
   "id": "24478009",
   "metadata": {},
   "source": [
    "17. Check if a string starts with a specific word or phrase."
   ]
  },
  {
   "cell_type": "code",
   "execution_count": 18,
   "id": "a4e092a2",
   "metadata": {},
   "outputs": [
    {
     "name": "stdout",
     "output_type": "stream",
     "text": [
      "Enter a word or phrase: Data\n",
      "Enter a sentence: I am a Data Scientist and I work with Data\n"
     ]
    },
    {
     "data": {
      "text/plain": [
       "False"
      ]
     },
     "execution_count": 18,
     "metadata": {},
     "output_type": "execute_result"
    }
   ],
   "source": [
    "# Taking specific word or phrase as a input in \"spe\"\n",
    "spe = input(\"Enter a word or phrase: \")\n",
    "st = input(\"Enter a sentence: \") # Sentence as a input in \"st\"\n",
    "\n",
    "# Using \"startswith()\" method \n",
    "st.startswith(spe)"
   ]
  },
  {
   "cell_type": "code",
   "execution_count": null,
   "id": "582dd982",
   "metadata": {},
   "outputs": [],
   "source": []
  },
  {
   "cell_type": "markdown",
   "id": "6e66ef5e",
   "metadata": {},
   "source": [
    "18. Check if a string ends with a specific word or phrase."
   ]
  },
  {
   "cell_type": "code",
   "execution_count": 19,
   "id": "0fc8b389",
   "metadata": {},
   "outputs": [
    {
     "name": "stdout",
     "output_type": "stream",
     "text": [
      "Enter a word or phrase: Data\n",
      "Enter a sentence: I am a Data Scientist and I work with Data\n"
     ]
    },
    {
     "data": {
      "text/plain": [
       "True"
      ]
     },
     "execution_count": 19,
     "metadata": {},
     "output_type": "execute_result"
    }
   ],
   "source": [
    "# Taking specific word or phrase as a input in \"spe\"\n",
    "spe = input(\"Enter a word or phrase: \")\n",
    "st = input(\"Enter a sentence: \") # Sentence as a input in \"st\"\n",
    "\n",
    "# Using \"endswith()\" method.\n",
    "st.endswith(spe)"
   ]
  },
  {
   "cell_type": "code",
   "execution_count": null,
   "id": "94baaa68",
   "metadata": {},
   "outputs": [],
   "source": []
  },
  {
   "cell_type": "markdown",
   "id": "e2489072",
   "metadata": {},
   "source": [
    "19. Convert a string to title case (e.g., \"hello world\" to \"Hello World\")."
   ]
  },
  {
   "cell_type": "code",
   "execution_count": 20,
   "id": "36e1154a",
   "metadata": {},
   "outputs": [
    {
     "data": {
      "text/plain": [
       "'Hello World'"
      ]
     },
     "execution_count": 20,
     "metadata": {},
     "output_type": "execute_result"
    }
   ],
   "source": [
    "# Using \"title()\" method\n",
    "st = \"hello world\"\n",
    "st.title()"
   ]
  },
  {
   "cell_type": "code",
   "execution_count": null,
   "id": "c8158667",
   "metadata": {},
   "outputs": [],
   "source": []
  },
  {
   "cell_type": "markdown",
   "id": "c2bd64d4",
   "metadata": {},
   "source": [
    "20. Find the longest word in a string."
   ]
  },
  {
   "cell_type": "code",
   "execution_count": 21,
   "id": "5ef453a3",
   "metadata": {},
   "outputs": [
    {
     "name": "stdout",
     "output_type": "stream",
     "text": [
      "scientist\n"
     ]
    }
   ],
   "source": [
    "# Taking the string as \"st\"\n",
    "st = \"I am a data scientist and I work with data\"\n",
    "\n",
    "# Split the string in words and giving it a variable name\n",
    "word = st.split()\n",
    "longest_word = max(word, key = len) # Find the word with maximum letters using \"max()\" method\n",
    "\n",
    "print(longest_word)"
   ]
  },
  {
   "cell_type": "code",
   "execution_count": null,
   "id": "d4e07212",
   "metadata": {},
   "outputs": [],
   "source": []
  },
  {
   "cell_type": "markdown",
   "id": "6f38f46b",
   "metadata": {},
   "source": [
    "21. Find the shortest word in a string.\n"
   ]
  },
  {
   "cell_type": "code",
   "execution_count": 22,
   "id": "3d684dfb",
   "metadata": {},
   "outputs": [
    {
     "name": "stdout",
     "output_type": "stream",
     "text": [
      "I\n"
     ]
    }
   ],
   "source": [
    "# Taking the string as \"st\"\n",
    "st = \"I am a data scientist and I work with data\"\n",
    "\n",
    "# Split the string in words and giving it a variable name\n",
    "word = st.split()\n",
    "shortest_word = min(word, key = len) # Find the word with minimum letters using \"max()\" method\n",
    "\n",
    "print(shortest_word)"
   ]
  },
  {
   "cell_type": "code",
   "execution_count": null,
   "id": "5bbbc76f",
   "metadata": {},
   "outputs": [],
   "source": []
  },
  {
   "cell_type": "markdown",
   "id": "88ff6434",
   "metadata": {},
   "source": [
    "22. Reverse the order of words in a string."
   ]
  },
  {
   "cell_type": "code",
   "execution_count": 23,
   "id": "d57a1a11",
   "metadata": {},
   "outputs": [
    {
     "name": "stdout",
     "output_type": "stream",
     "text": [
      "data with work I and scientist data a am I\n"
     ]
    }
   ],
   "source": [
    "# Taking the string as \"st\"\n",
    "st = \"I am a data scientist and I work with data\"\n",
    "\n",
    "# Split the string in words and reversing it and giving it a variable name\n",
    "word = st.split()[::-1] # it is a list\n",
    "print(\" \".join(word)) # joining the words in a list to a string "
   ]
  },
  {
   "cell_type": "code",
   "execution_count": null,
   "id": "871fefd3",
   "metadata": {},
   "outputs": [],
   "source": []
  },
  {
   "cell_type": "markdown",
   "id": "c326dc63",
   "metadata": {},
   "source": [
    "23. Check if a string is alphanumeric."
   ]
  },
  {
   "cell_type": "code",
   "execution_count": 24,
   "id": "4ee03af2",
   "metadata": {},
   "outputs": [
    {
     "data": {
      "text/plain": [
       "True"
      ]
     },
     "execution_count": 24,
     "metadata": {},
     "output_type": "execute_result"
    }
   ],
   "source": [
    "# Taking the string as \"st\"\n",
    "st = \"123data\" \n",
    "\n",
    "st.isalnum() # Checking if the string is alphanumeric\n",
    "\n",
    "# Note--> here the output is False because the is a space in a string"
   ]
  },
  {
   "cell_type": "code",
   "execution_count": null,
   "id": "090a8402",
   "metadata": {},
   "outputs": [],
   "source": []
  },
  {
   "cell_type": "markdown",
   "id": "7ba96731",
   "metadata": {},
   "source": [
    "24. Extract all digits from a string."
   ]
  },
  {
   "cell_type": "code",
   "execution_count": 25,
   "id": "9a92b0a8",
   "metadata": {},
   "outputs": [
    {
     "name": "stdout",
     "output_type": "stream",
     "text": [
      "1\n",
      "2\n",
      "3\n"
     ]
    }
   ],
   "source": [
    "# Taking the string as \"st\"\n",
    "st = \"123data\" \n",
    "\n",
    "# Using \"for\" loop for taking each element in string \n",
    "for i in st:\n",
    "    # checking if the element is digit\n",
    "    if i.isdigit():\n",
    "        print(i)"
   ]
  },
  {
   "cell_type": "code",
   "execution_count": null,
   "id": "293ee1fc",
   "metadata": {},
   "outputs": [],
   "source": []
  },
  {
   "cell_type": "markdown",
   "id": "2dcbf6e4",
   "metadata": {},
   "source": [
    "25. Extract all alphabets from a string."
   ]
  },
  {
   "cell_type": "code",
   "execution_count": 26,
   "id": "e3bbdf18",
   "metadata": {},
   "outputs": [
    {
     "name": "stdout",
     "output_type": "stream",
     "text": [
      "d\n",
      "a\n",
      "t\n",
      "a\n"
     ]
    }
   ],
   "source": [
    "# Taking the string as \"st\"\n",
    "st = \"123data\" \n",
    "\n",
    "# Using \"for\" loop for taking each element in string \n",
    "for i in st:\n",
    "    # checking if the element is alphabet\n",
    "    if i.isalpha():\n",
    "        print(i)"
   ]
  },
  {
   "cell_type": "code",
   "execution_count": null,
   "id": "1b54d79c",
   "metadata": {},
   "outputs": [],
   "source": []
  },
  {
   "cell_type": "markdown",
   "id": "d0217489",
   "metadata": {},
   "source": [
    "26. Count the number of uppercase letters in a string."
   ]
  },
  {
   "cell_type": "code",
   "execution_count": 27,
   "id": "885a8d0c",
   "metadata": {},
   "outputs": [
    {
     "name": "stdout",
     "output_type": "stream",
     "text": [
      "5\n"
     ]
    }
   ],
   "source": [
    "# Taking the string as \"st\"\n",
    "st = \"I am a Data Scientist and I work with Data\"\n",
    "t = 0 # Taking it for the counting purpose\n",
    "\n",
    "# Using \"for\" loop for taking each element in string \n",
    "for i in st:\n",
    "    # Finding the uppercase letter\n",
    "    if i.isupper():\n",
    "        t += 1 # Each time loop runs 1 will be added to \"t\"\n",
    "print(t)"
   ]
  },
  {
   "cell_type": "code",
   "execution_count": null,
   "id": "c9bbd088",
   "metadata": {},
   "outputs": [],
   "source": []
  },
  {
   "cell_type": "markdown",
   "id": "66ba315e",
   "metadata": {},
   "source": [
    "27. Count the number of lowercase letters in a string."
   ]
  },
  {
   "cell_type": "code",
   "execution_count": 28,
   "id": "5bfc47b2",
   "metadata": {},
   "outputs": [
    {
     "name": "stdout",
     "output_type": "stream",
     "text": [
      "28\n"
     ]
    }
   ],
   "source": [
    "# Taking the string as \"st\"\n",
    "st = \"I am a Data Scientist and I work with Data\"\n",
    "t = 0 # Taking it for the counting purpose\n",
    "\n",
    "# Using \"for\" loop for taking each element in string \n",
    "for i in st:\n",
    "    # Finding the lowercase letter\n",
    "    if i.islower():\n",
    "        t += 1 # Each time loop runs 1 will be added to \"t\"\n",
    "print(t)"
   ]
  },
  {
   "cell_type": "code",
   "execution_count": null,
   "id": "3f18cc23",
   "metadata": {},
   "outputs": [],
   "source": []
  },
  {
   "cell_type": "markdown",
   "id": "3e69af66",
   "metadata": {},
   "source": [
    "28. Swap the case of each character in a string."
   ]
  },
  {
   "cell_type": "code",
   "execution_count": 29,
   "id": "3815e592",
   "metadata": {},
   "outputs": [
    {
     "name": "stdout",
     "output_type": "stream",
     "text": [
      "i AM A dATA sCIENTIST AND i WORK WITH dATA\n"
     ]
    }
   ],
   "source": [
    "# Taking the string as \"st\"\n",
    "st = \"I am a Data Scientist and I work with Data\"\n",
    "sw = [] # To make the list of elements\n",
    "jo = \"\" # To join the elements of list\n",
    "\n",
    "# Using \"for\" loop for taking each element in string \n",
    "for i in st:\n",
    "    # Swaping uppercase latter to lowercase and append to the list\n",
    "    if i.isupper():\n",
    "        l = i.lower()\n",
    "        sw.append(l)\n",
    "    # Swaping lowercase latter to uppercase and append to the list\n",
    "    elif i.islower():\n",
    "        u = i.upper()\n",
    "        sw.append(u)\n",
    "    # For the spaces in the string\n",
    "    else:\n",
    "        sw.append(i)\n",
    "        \n",
    "\n",
    "# print(sw)\n",
    "n = jo.join(sw)\n",
    "print(n)"
   ]
  },
  {
   "cell_type": "code",
   "execution_count": null,
   "id": "823aab18",
   "metadata": {},
   "outputs": [],
   "source": []
  },
  {
   "cell_type": "markdown",
   "id": "ffe6776b",
   "metadata": {},
   "source": [
    "29. Remove a specific word from a string."
   ]
  },
  {
   "cell_type": "code",
   "execution_count": 30,
   "id": "40219905",
   "metadata": {},
   "outputs": [
    {
     "name": "stdout",
     "output_type": "stream",
     "text": [
      "Enter a word or phrase: Data\n",
      "Enter a sentence: I am a Data Scientist and I work with Data\n",
      "I am a  Scientist and I work with \n"
     ]
    }
   ],
   "source": [
    "# Taking specific word or phrase as a input in \"spe\"\n",
    "spe_word = input(\"Enter a word : \")\n",
    "st = input(\"Enter a sentence: \") # Sentence as a input in \"st\"\n",
    "\n",
    "# Split the string to get the words\n",
    "# for loop for each words\n",
    "for i in st.split():\n",
    "    if spe_word == i:\n",
    "        s = st.replace(spe_word,\"\")\n",
    "print(s)"
   ]
  },
  {
   "cell_type": "code",
   "execution_count": null,
   "id": "19b7bc88",
   "metadata": {},
   "outputs": [],
   "source": []
  },
  {
   "cell_type": "markdown",
   "id": "eece231f",
   "metadata": {},
   "source": [
    "30. Check if a string is a valid email address."
   ]
  },
  {
   "cell_type": "code",
   "execution_count": 1,
   "id": "1eda6009",
   "metadata": {},
   "outputs": [],
   "source": [
    "# Unable to solve..."
   ]
  },
  {
   "cell_type": "markdown",
   "id": "2e07213d",
   "metadata": {},
   "source": [
    "31. Extract the username from an email address string.\n"
   ]
  },
  {
   "cell_type": "code",
   "execution_count": 9,
   "id": "482768d7",
   "metadata": {},
   "outputs": [
    {
     "name": "stdout",
     "output_type": "stream",
     "text": [
      "Enter a Email : example@email.com\n",
      "The username is : example\n"
     ]
    }
   ],
   "source": [
    "# The part before \"@\" is a username\n",
    "# We have to split() the email and then take the part before \"@\"\n",
    "# -------------------------------------------------------\n",
    "\n",
    "# Taking email as an input\n",
    "email = input(\"Enter a Email : \")\n",
    "\n",
    "e = email.split(\"@\") \n",
    "print(\"The username is : {}\".format(e[0]))"
   ]
  },
  {
   "cell_type": "code",
   "execution_count": null,
   "id": "0309af9f",
   "metadata": {},
   "outputs": [],
   "source": []
  },
  {
   "cell_type": "markdown",
   "id": "6e1c49f6",
   "metadata": {},
   "source": [
    "32. Extract the domain name from an email address string."
   ]
  },
  {
   "cell_type": "code",
   "execution_count": 10,
   "id": "64372dc5",
   "metadata": {},
   "outputs": [
    {
     "name": "stdout",
     "output_type": "stream",
     "text": [
      "Enter a Email : example@email.com\n",
      "The username is : email.com\n"
     ]
    }
   ],
   "source": [
    "# We have to split() the email and then take the part after \"@\"\n",
    "# -------------------------------------------------------\n",
    "\n",
    "# Taking email as an input\n",
    "email = input(\"Enter a Email : \")\n",
    "\n",
    "e = email.split(\"@\") \n",
    "print(\"The username is : {}\".format(e[1]))"
   ]
  },
  {
   "cell_type": "code",
   "execution_count": null,
   "id": "3513b9a4",
   "metadata": {},
   "outputs": [],
   "source": []
  },
  {
   "cell_type": "markdown",
   "id": "5fc16aa3",
   "metadata": {},
   "source": [
    "33. Replace multiple spaces in a string with a single space.\n"
   ]
  },
  {
   "cell_type": "code",
   "execution_count": 15,
   "id": "9e83534f",
   "metadata": {},
   "outputs": [
    {
     "name": "stdout",
     "output_type": "stream",
     "text": [
      "This is a string with multiple spaces\n"
     ]
    }
   ],
   "source": [
    "# Taking the string as \"st\"\n",
    "st = \"This is   a   string    with    multiple  spaces\"\n",
    "\n",
    "# First split the string\n",
    "words = st.split()\n",
    "# Join the all the words\n",
    "Joined_words = \" \".join(words)\n",
    "print(Joined_words)"
   ]
  },
  {
   "cell_type": "code",
   "execution_count": null,
   "id": "4d37f454",
   "metadata": {},
   "outputs": [],
   "source": []
  },
  {
   "cell_type": "markdown",
   "id": "ed5223f2",
   "metadata": {},
   "source": [
    "34. Check if a string is a valid URL.\n"
   ]
  },
  {
   "cell_type": "code",
   "execution_count": 16,
   "id": "18cb5c2c",
   "metadata": {},
   "outputs": [],
   "source": [
    "# Unable to solve..."
   ]
  },
  {
   "cell_type": "code",
   "execution_count": null,
   "id": "a716b1d2",
   "metadata": {},
   "outputs": [],
   "source": []
  },
  {
   "cell_type": "markdown",
   "id": "d81d62ee",
   "metadata": {},
   "source": [
    "35. Extract the protocol (http or https) from a URL string.\n"
   ]
  },
  {
   "cell_type": "code",
   "execution_count": 9,
   "id": "797d9205",
   "metadata": {},
   "outputs": [
    {
     "name": "stdout",
     "output_type": "stream",
     "text": [
      "Enter the URL: https://www.google.com/\n",
      "The protocol is https\n"
     ]
    }
   ],
   "source": [
    "# URL as string in url\n",
    "url = input(\"Enter the URL: \")\n",
    "# Spliting the string(url)\n",
    "protocol = url.split(\"://\")[0]\n",
    "\n",
    "print(\"The protocol is\",protocol)"
   ]
  },
  {
   "cell_type": "code",
   "execution_count": null,
   "id": "3e3f6503",
   "metadata": {},
   "outputs": [],
   "source": []
  },
  {
   "cell_type": "markdown",
   "id": "ea9d1393",
   "metadata": {},
   "source": [
    "36. Find the frequency of each character in a string"
   ]
  },
  {
   "cell_type": "code",
   "execution_count": 17,
   "id": "5ae84f59",
   "metadata": {},
   "outputs": [
    {
     "name": "stdout",
     "output_type": "stream",
     "text": [
      "i : 5\n",
      "a : 7\n",
      "m : 1\n",
      "d : 3\n",
      "t : 5\n",
      "s : 2\n",
      "c : 1\n",
      "e : 1\n",
      "n : 2\n",
      "w : 2\n",
      "o : 1\n",
      "r : 1\n",
      "k : 1\n",
      "h : 1\n"
     ]
    }
   ],
   "source": [
    "# String as st\n",
    "st = 44. Find the most frequent word in a string.\n",
    "\n",
    "\n",
    "# \"fr\" as empty dictionary to store frequency\n",
    "fr = {}\n",
    "\n",
    "# iterate through the string\n",
    "for i in st:\n",
    "    # Check if the character is letter or space\n",
    "    if i.isalpha() or not i.isspace():\n",
    "        # if the charater is in uppercase convert it to lowercase \n",
    "        i = i.lower()\n",
    "        if i in fr:\n",
    "            fr[i] += 1\n",
    "        else:\n",
    "            fr[i] = 1\n",
    "\n",
    "# Check the character frequency\n",
    "for i, count in fr.items():\n",
    "    print(f\"{i} : {count}\")"
   ]
  },
  {
   "cell_type": "code",
   "execution_count": null,
   "id": "2d7b53a7",
   "metadata": {},
   "outputs": [],
   "source": []
  },
  {
   "cell_type": "markdown",
   "id": "705f5830",
   "metadata": {},
   "source": [
    "37. Remove all punctuation from a string.\n"
   ]
  },
  {
   "cell_type": "code",
   "execution_count": 25,
   "id": "a19f9301",
   "metadata": {},
   "outputs": [
    {
     "name": "stdout",
     "output_type": "stream",
     "text": [
      "Enter the string: \"This is a sample sentence with commas, periods, and exclamation marks!\"\n",
      "This is a sample sentence with commas periods and exclamation marks\n"
     ]
    }
   ],
   "source": [
    "# Sample string with punctuation\n",
    "st = input(\"Enter the string: \")\n",
    "\n",
    "# Define a translation table to remove punctuation\n",
    "translator = str.maketrans('', '', string.punctuation)\n",
    "\n",
    "# Use translate to remove punctuation\n",
    "cle = st.translate(translator)\n",
    "\n",
    "# Print the cleaned string\n",
    "print(cle)\n"
   ]
  },
  {
   "cell_type": "code",
   "execution_count": null,
   "id": "0ec9b48b",
   "metadata": {},
   "outputs": [],
   "source": []
  },
  {
   "cell_type": "markdown",
   "id": "228eeec6",
   "metadata": {},
   "source": [
    "38. Check if a string contains only digits.\n"
   ]
  },
  {
   "cell_type": "code",
   "execution_count": 37,
   "id": "0ea8998e",
   "metadata": {},
   "outputs": [
    {
     "name": "stdout",
     "output_type": "stream",
     "text": [
      "Enter the string: 65668631321\n",
      "The string contain only digit\n"
     ]
    }
   ],
   "source": [
    "# Taking string as input\n",
    "st = input(\"Enter the string: \")\n",
    "\n",
    "\n",
    "# checking if the string contain digit.\n",
    "if st.isdigit():\n",
    "    print(\"The string contain only digit\")\n",
    "else:\n",
    "    print(\"The string do not contain digit\")"
   ]
  },
  {
   "cell_type": "code",
   "execution_count": null,
   "id": "597b5208",
   "metadata": {},
   "outputs": [],
   "source": []
  },
  {
   "cell_type": "markdown",
   "id": "3f7701ab",
   "metadata": {},
   "source": [
    "39. Check if a string contains only alphabets.\n"
   ]
  },
  {
   "cell_type": "code",
   "execution_count": 39,
   "id": "1b2c366f",
   "metadata": {},
   "outputs": [
    {
     "name": "stdout",
     "output_type": "stream",
     "text": [
      "Enter the string: 313sdfsd\n",
      "The string do not contain alphabet\n"
     ]
    }
   ],
   "source": [
    "# Taking string as input\n",
    "st = input(\"Enter the string: \")\n",
    "\n",
    "\n",
    "# checking if the string contain digit.\n",
    "if st.isalpha():\n",
    "    print(\"The string contain only alphabet\")\n",
    "else:\n",
    "    print(\"The string do not contain alphabet\")"
   ]
  },
  {
   "cell_type": "code",
   "execution_count": null,
   "id": "5989ba8d",
   "metadata": {},
   "outputs": [],
   "source": []
  },
  {
   "cell_type": "markdown",
   "id": "5a3c2d1e",
   "metadata": {},
   "source": [
    "40. Convert a string to a list of characters.\n"
   ]
  },
  {
   "cell_type": "code",
   "execution_count": 41,
   "id": "8366b3a8",
   "metadata": {},
   "outputs": [
    {
     "name": "stdout",
     "output_type": "stream",
     "text": [
      "['I', ' ', 'a', 'm', ' ', 'a', ' ', 'D', 'a', 't', 'a', ' ', 'S', 'c', 'i', 'e', 'n', 't', 'i', 's', 't', ' ', 'a', 'n', 'd', ' ', 'I', ' ', 'w', 'o', 'r', 'k', ' ', 'w', 'i', 't', 'h', ' ', 'D', 'a', 't', 'a']\n"
     ]
    }
   ],
   "source": [
    "# Input string\n",
    "st = \"I am a Data Scientist and I work with Data\"\n",
    "\n",
    "# Convert the string to the list of characters\n",
    "li = list(st)\n",
    "\n",
    "# Print the list\n",
    "print(li)"
   ]
  },
  {
   "cell_type": "code",
   "execution_count": null,
   "id": "3903bc3e",
   "metadata": {},
   "outputs": [],
   "source": []
  },
  {
   "cell_type": "markdown",
   "id": "e7a86099",
   "metadata": {},
   "source": [
    "41. Check if two strings are anagrams.\n"
   ]
  },
  {
   "cell_type": "code",
   "execution_count": 3,
   "id": "ddfafc96",
   "metadata": {},
   "outputs": [
    {
     "name": "stdout",
     "output_type": "stream",
     "text": [
      "silent and listen are anagram: True\n"
     ]
    }
   ],
   "source": [
    "def anagram(st1,st2):\n",
    "    \n",
    "    # Removing the spaces and converting the character in lowercase\n",
    "    st1 = st1.replace(\" \",\"\").lower()\n",
    "    st2 = st2.replace(\" \",\"\").lower()\n",
    "    \n",
    "    # Checking if the sorted characters in the strings are same\n",
    "    return sorted(st1) == sorted(st2)\n",
    "\n",
    "\n",
    "st1 = 'silent'\n",
    "st2 = 'listen'\n",
    "result = anagram(st1,st2)\n",
    "\n",
    "print(f\"{st1} and {st2} are anagram: {result}\")"
   ]
  },
  {
   "cell_type": "code",
   "execution_count": null,
   "id": "14ed9bdd",
   "metadata": {},
   "outputs": [],
   "source": []
  },
  {
   "cell_type": "markdown",
   "id": "48cf732b",
   "metadata": {},
   "source": [
    "42. Encode a string using a Caesar Cipher.\n"
   ]
  },
  {
   "cell_type": "code",
   "execution_count": 1,
   "id": "89faf35b",
   "metadata": {},
   "outputs": [],
   "source": [
    "# Not able to solve"
   ]
  },
  {
   "cell_type": "markdown",
   "id": "9c3408bd",
   "metadata": {},
   "source": [
    "43. Decode a Caesar cipher encoded string."
   ]
  },
  {
   "cell_type": "code",
   "execution_count": 2,
   "id": "848a3e83",
   "metadata": {},
   "outputs": [],
   "source": [
    "# Not able to solve"
   ]
  },
  {
   "cell_type": "markdown",
   "id": "8d77edf7",
   "metadata": {},
   "source": [
    "44. Find the most frequent word in a string.\n"
   ]
  },
  {
   "cell_type": "code",
   "execution_count": 7,
   "id": "dbd049f6",
   "metadata": {},
   "outputs": [
    {
     "ename": "TypeError",
     "evalue": "'str' object is not callable",
     "output_type": "error",
     "traceback": [
      "\u001b[1;31m---------------------------------------------------------------------------\u001b[0m",
      "\u001b[1;31mTypeError\u001b[0m                                 Traceback (most recent call last)",
      "Cell \u001b[1;32mIn[7], line 13\u001b[0m\n\u001b[0;32m     10\u001b[0m     most_frequent \u001b[38;5;241m=\u001b[39m \u001b[38;5;28mmax\u001b[39m(word_frequency, key \u001b[38;5;241m=\u001b[39m word_frequency\u001b[38;5;241m.\u001b[39mget)\n\u001b[0;32m     11\u001b[0m \u001b[38;5;66;03m#     return most_frequent\u001b[39;00m\n\u001b[1;32m---> 13\u001b[0m result \u001b[38;5;241m=\u001b[39m most_frequent(st)\n\u001b[0;32m     14\u001b[0m \u001b[38;5;28mprint\u001b[39m(\u001b[38;5;124mf\u001b[39m\u001b[38;5;124m'\u001b[39m\u001b[38;5;124mthe most frequent word is \u001b[39m\u001b[38;5;132;01m{\u001b[39;00mresult\u001b[38;5;132;01m}\u001b[39;00m\u001b[38;5;124m'\u001b[39m)\n",
      "\u001b[1;31mTypeError\u001b[0m: 'str' object is not callable"
     ]
    }
   ],
   "source": [
    "st =  \"This is   a   string    with    multiple  spaces\"\n",
    "\n",
    "words = st.split()\n",
    "word_frequency = {}\n",
    "\n",
    "for i in st:\n",
    "    cl = i.strip(\".,?!\").lower()\n",
    "    word_frequency[cl] = word_frequency.get(cl, 0) + 1\n",
    "    \n",
    "    most_frequent = max(word_frequency, key = word_frequency.get)\n",
    "#     return most_frequent\n",
    "\n",
    "result = most_frequent(st)\n",
    "print(f'the most frequent word is {result}')"
   ]
  },
  {
   "cell_type": "code",
   "execution_count": null,
   "id": "71326789",
   "metadata": {},
   "outputs": [],
   "source": []
  },
  {
   "cell_type": "markdown",
   "id": "3d3db108",
   "metadata": {},
   "source": [
    "45. Find all unique words in a string."
   ]
  },
  {
   "cell_type": "code",
   "execution_count": 5,
   "id": "aa5fab2b",
   "metadata": {},
   "outputs": [
    {
     "name": "stdout",
     "output_type": "stream",
     "text": [
      "['a', 'Scientist', 'with', 'I', 'am', 'work', 'Data', 'and']\n"
     ]
    }
   ],
   "source": [
    "st =  \"I am a Data Scientist and I work with Data\"\n",
    "words = st.split()\n",
    "unique_word = set()\n",
    "\n",
    "for i in words:\n",
    "    unique_word.add(i)\n",
    "unique_word_list = list(unique_word)\n",
    "# return unique_word_list\n",
    "\n",
    "print(unique_word_list)"
   ]
  },
  {
   "cell_type": "code",
   "execution_count": null,
   "id": "9f8dab59",
   "metadata": {},
   "outputs": [],
   "source": []
  },
  {
   "cell_type": "markdown",
   "id": "041b5c86",
   "metadata": {},
   "source": [
    "46. Count the number of syllables in a string."
   ]
  },
  {
   "cell_type": "code",
   "execution_count": null,
   "id": "314b6ba3",
   "metadata": {},
   "outputs": [],
   "source": [
    "# Not able to slove"
   ]
  },
  {
   "cell_type": "code",
   "execution_count": null,
   "id": "da4bf6cb",
   "metadata": {},
   "outputs": [],
   "source": []
  },
  {
   "cell_type": "markdown",
   "id": "44d8741d",
   "metadata": {},
   "source": [
    "47. Check if a string contains any special characters."
   ]
  },
  {
   "cell_type": "code",
   "execution_count": 56,
   "id": "9fe34c01",
   "metadata": {},
   "outputs": [
    {
     "name": "stdout",
     "output_type": "stream",
     "text": [
      "String contains special characters - True\n"
     ]
    }
   ],
   "source": [
    "def special_characters(input_string):\n",
    "    letters = set(\"ABCDEFGHIJKLMNOPQRSTUVWXYZabcdefghijklmnopqrstuvwxyz0123456789\")\n",
    "    for i in input_string:\n",
    "        if i not in letters:\n",
    "            return True\n",
    "\n",
    "    return False\n",
    "st = \"This is a string with a $pecial character\"\n",
    "check = special_characters(st)\n",
    "\n",
    "print(\"String contains special characters -\",check)"
   ]
  },
  {
   "cell_type": "code",
   "execution_count": null,
   "id": "b0c85021",
   "metadata": {},
   "outputs": [],
   "source": []
  },
  {
   "cell_type": "markdown",
   "id": "6693a3bb",
   "metadata": {},
   "source": [
    "48. Remove the nth word from a string.\n"
   ]
  },
  {
   "cell_type": "code",
   "execution_count": 60,
   "id": "ce80adfc",
   "metadata": {},
   "outputs": [
    {
     "name": "stdout",
     "output_type": "stream",
     "text": [
      "I\n",
      "am\n",
      "a\n",
      "Data\n",
      "Scientist\n",
      "and\n",
      "I\n",
      "work\n",
      "with\n",
      "Data\n"
     ]
    }
   ],
   "source": [
    "def remove_word(ss):\n",
    "    words = st.split()\n",
    "    for char in words:\n",
    "        \n",
    "    \n",
    "    \n",
    "st = \"I am a Data Scientist and I work with Data\"    \n",
    "remove_word(st)"
   ]
  },
  {
   "cell_type": "code",
   "execution_count": null,
   "id": "a9c6093e",
   "metadata": {},
   "outputs": [],
   "source": []
  },
  {
   "cell_type": "markdown",
   "id": "25a1e3fc",
   "metadata": {},
   "source": [
    "49. Insert a word at the nth position in a string.\n"
   ]
  },
  {
   "cell_type": "code",
   "execution_count": 6,
   "id": "26aaf982",
   "metadata": {},
   "outputs": [
    {
     "name": "stdout",
     "output_type": "stream",
     "text": [
      "I am a Data Scientist and I work with Data\n"
     ]
    }
   ],
   "source": [
    "def insert_word(original_string, word_to_insert, n):\n",
    "    \n",
    "    # split the original string in the list of words\n",
    "    words = st.split()\n",
    "    \n",
    "    # Inserting the word in nth position\n",
    "    words.insert(n, word_to_insert)\n",
    "    \n",
    "    # Join the words in the new string\n",
    "    new_string = \" \".join(words)\n",
    "    \n",
    "    return new_string\n",
    "\n",
    "st = \"I am a Data Scientist and work with Data\"\n",
    "word = \"I\"\n",
    "n = 6\n",
    "\n",
    "result = insert_word(st, word, n)\n",
    "print(result)"
   ]
  },
  {
   "cell_type": "code",
   "execution_count": null,
   "id": "da9deb9d",
   "metadata": {},
   "outputs": [],
   "source": []
  },
  {
   "cell_type": "markdown",
   "id": "8da19c78",
   "metadata": {},
   "source": [
    "50. Convert a CSV string to a list of lists."
   ]
  },
  {
   "cell_type": "code",
   "execution_count": 2,
   "id": "f9e4cec1",
   "metadata": {},
   "outputs": [
    {
     "name": "stdout",
     "output_type": "stream",
     "text": [
      "[['John', ' 30', ' New York'], ['Alice', ' 25', ' Los Angeles'], ['Bob', ' 35', ' Chicago']]\n"
     ]
    }
   ],
   "source": [
    "csv_string = \"John, 30, New York\\nAlice, 25, Los Angeles\\nBob, 35, Chicago\"\n",
    "\n",
    "# Split the CSV in lines \n",
    "lines = csv_string.split(\"\\n\")\n",
    "\n",
    "# Empty string to store the result\n",
    "csv_list = []\n",
    "\n",
    "for line in lines:\n",
    "    if line:\n",
    "        row = line.split(\",\")\n",
    "        csv_list.append(row)\n",
    "        \n",
    "print(csv_list)"
   ]
  },
  {
   "cell_type": "code",
   "execution_count": null,
   "id": "defde054",
   "metadata": {},
   "outputs": [],
   "source": []
  },
  {
   "cell_type": "markdown",
   "id": "84bdbd76",
   "metadata": {},
   "source": [
    "# List Based Practice Problem "
   ]
  },
  {
   "cell_type": "markdown",
   "id": "faf6b25c",
   "metadata": {},
   "source": [
    "1. Create a list with integers from 1 to 10."
   ]
  },
  {
   "cell_type": "code",
   "execution_count": 6,
   "id": "b96c3851",
   "metadata": {},
   "outputs": [
    {
     "name": "stdout",
     "output_type": "stream",
     "text": [
      "[1, 2, 3, 4, 5, 6, 7, 8, 9, 10]\n"
     ]
    }
   ],
   "source": [
    "li = []\n",
    "for i in range(1,11):\n",
    "    li.append(i)\n",
    "print(li)"
   ]
  },
  {
   "cell_type": "markdown",
   "id": "8792c4c2",
   "metadata": {},
   "source": [
    "2. Find the length of a list without using the `len()` function."
   ]
  },
  {
   "cell_type": "code",
   "execution_count": 9,
   "id": "e0795eb7",
   "metadata": {},
   "outputs": [
    {
     "name": "stdout",
     "output_type": "stream",
     "text": [
      "12\n"
     ]
    }
   ],
   "source": [
    "# Taking a sample string\n",
    "li = [1, 2, 3, 4, 5, 6, 7, 8, 9, 10, \"abc\", True]\n",
    "\n",
    "# Taking a variable for counting purpose\n",
    "l = 0\n",
    "\n",
    "for i in li:\n",
    "    l += 1\n",
    "    \n",
    "print(l)"
   ]
  },
  {
   "cell_type": "code",
   "execution_count": null,
   "id": "4c2f75dc",
   "metadata": {},
   "outputs": [],
   "source": []
  },
  {
   "cell_type": "markdown",
   "id": "6572b44e",
   "metadata": {},
   "source": [
    "3. Append an element to the end of a list."
   ]
  },
  {
   "cell_type": "code",
   "execution_count": 10,
   "id": "b23d6c47",
   "metadata": {},
   "outputs": [
    {
     "name": "stdout",
     "output_type": "stream",
     "text": [
      "[1, 2, 3, 4, 5, 6, 7, 8, 9, 10, 'string']\n"
     ]
    }
   ],
   "source": [
    "li = [1, 2, 3, 4, 5, 6, 7, 8, 9, 10]\n",
    "li.append(\"string\")\n",
    "print(li)"
   ]
  },
  {
   "cell_type": "code",
   "execution_count": null,
   "id": "e8d0d351",
   "metadata": {},
   "outputs": [],
   "source": []
  },
  {
   "cell_type": "markdown",
   "id": "b0974da2",
   "metadata": {},
   "source": [
    "4. Insert an element at a specific index in a list."
   ]
  },
  {
   "cell_type": "code",
   "execution_count": 12,
   "id": "b339b766",
   "metadata": {},
   "outputs": [
    {
     "name": "stdout",
     "output_type": "stream",
     "text": [
      "[1, 2, 3, 'hi', 4, 5, 6, 7, 8, 9, 10]\n"
     ]
    }
   ],
   "source": [
    "li = [1, 2, 3, 4, 5, 6, 7, 8, 9, 10]\n",
    "li.insert(3,\"hi\")\n",
    "print(li)"
   ]
  },
  {
   "cell_type": "code",
   "execution_count": null,
   "id": "041dd183",
   "metadata": {},
   "outputs": [],
   "source": []
  },
  {
   "cell_type": "markdown",
   "id": "7d22924a",
   "metadata": {},
   "source": [
    "5. Remove an element from a list by its value.\n"
   ]
  },
  {
   "cell_type": "code",
   "execution_count": 13,
   "id": "f9252f3c",
   "metadata": {},
   "outputs": [
    {
     "name": "stdout",
     "output_type": "stream",
     "text": [
      "[1, 2, 3, 4, 5, 6, 7, 8, 9, 10]\n"
     ]
    }
   ],
   "source": [
    "li = [1, 2, 3, 'hi', 4, 5, 6, 7, 8, 9, 10]\n",
    "li.remove(\"hi\")\n",
    "print(li)"
   ]
  },
  {
   "cell_type": "code",
   "execution_count": null,
   "id": "ac5423e9",
   "metadata": {},
   "outputs": [],
   "source": []
  },
  {
   "cell_type": "markdown",
   "id": "563ee773",
   "metadata": {},
   "source": [
    "6. Remove an element from a list by its index."
   ]
  },
  {
   "cell_type": "code",
   "execution_count": 16,
   "id": "fe95c59f",
   "metadata": {},
   "outputs": [
    {
     "name": "stdout",
     "output_type": "stream",
     "text": [
      "[1, 2, 3, 4, 5, 6, 7, 8, 9, 10]\n"
     ]
    }
   ],
   "source": [
    "li = [1, 2, 3, 'hi', 4, 5, 6, 7, 8, 9, 10]\n",
    "del li[3]\n",
    "print(li)"
   ]
  },
  {
   "cell_type": "code",
   "execution_count": null,
   "id": "6b458f6d",
   "metadata": {},
   "outputs": [],
   "source": []
  },
  {
   "cell_type": "markdown",
   "id": "94559e5f",
   "metadata": {},
   "source": [
    "7. Check if an element exists in a list.\n"
   ]
  },
  {
   "cell_type": "code",
   "execution_count": 17,
   "id": "f6ff84e5",
   "metadata": {},
   "outputs": [
    {
     "name": "stdout",
     "output_type": "stream",
     "text": [
      "Element to check: hi\n",
      "Exists\n"
     ]
    }
   ],
   "source": [
    "li = [1, 2, 3, 'hi', 4, 5, 6, 7, 8, 9, 10]\n",
    "i = input(\"Element to check: \")\n",
    "if i in li:\n",
    "    print(\"Exists\")\n",
    "else:\n",
    "    print(\"Do not exists\")"
   ]
  },
  {
   "cell_type": "code",
   "execution_count": null,
   "id": "0c370b13",
   "metadata": {},
   "outputs": [],
   "source": []
  },
  {
   "cell_type": "markdown",
   "id": "db3502b9",
   "metadata": {},
   "source": [
    "8. Find the index of the first occurrence of an element in a list."
   ]
  },
  {
   "cell_type": "code",
   "execution_count": 21,
   "id": "910d55bf",
   "metadata": {},
   "outputs": [
    {
     "name": "stdout",
     "output_type": "stream",
     "text": [
      "3\n"
     ]
    }
   ],
   "source": [
    "li = [1, 2, 3, 'hi', 4, 5, 6, 7, 8, 9, 10]\n",
    "index = li.index(\"hi\")\n",
    "print(index)"
   ]
  },
  {
   "cell_type": "code",
   "execution_count": null,
   "id": "1e836cf8",
   "metadata": {},
   "outputs": [],
   "source": []
  },
  {
   "cell_type": "markdown",
   "id": "ef8ba8dd",
   "metadata": {},
   "source": [
    "9. Count the occurrences of an element in a list."
   ]
  },
  {
   "cell_type": "code",
   "execution_count": 23,
   "id": "8b641f83",
   "metadata": {},
   "outputs": [
    {
     "data": {
      "text/plain": [
       "4"
      ]
     },
     "execution_count": 23,
     "metadata": {},
     "output_type": "execute_result"
    }
   ],
   "source": [
    "li = [1, 2, 3, 'hi', 4, 5, 6, 7, 8, 9, 10, 'hi', 12, 'hi', 11, 'hi'] # Sample string\n",
    "\n",
    "li.count('hi')"
   ]
  },
  {
   "cell_type": "code",
   "execution_count": null,
   "id": "abd48768",
   "metadata": {},
   "outputs": [],
   "source": []
  },
  {
   "cell_type": "markdown",
   "id": "c4a1fe38",
   "metadata": {},
   "source": [
    "10. Reverse the order of elements in a list."
   ]
  },
  {
   "cell_type": "code",
   "execution_count": 24,
   "id": "cd57462f",
   "metadata": {},
   "outputs": [
    {
     "name": "stdout",
     "output_type": "stream",
     "text": [
      "['yellow', 'white', 'black', 'green', 'blue', 'red']\n"
     ]
    }
   ],
   "source": [
    "li = ['red', 'blue', 'green', 'black', 'white', 'yellow']\n",
    "li.reverse()\n",
    "print(li)"
   ]
  },
  {
   "cell_type": "code",
   "execution_count": null,
   "id": "505d2e84",
   "metadata": {},
   "outputs": [],
   "source": []
  },
  {
   "cell_type": "markdown",
   "id": "fd882902",
   "metadata": {},
   "source": [
    "11. Sort a list in ascending order."
   ]
  },
  {
   "cell_type": "code",
   "execution_count": 26,
   "id": "ca504a9c",
   "metadata": {},
   "outputs": [
    {
     "name": "stdout",
     "output_type": "stream",
     "text": [
      "[2, 6, 10, 11, 15, 18, 22, 23, 37, 41]\n"
     ]
    }
   ],
   "source": [
    "li = [11, 2, 23, 41, 15, 6, 37, 18, 22, 10]\n",
    "li.sort()\n",
    "print(li)"
   ]
  },
  {
   "cell_type": "code",
   "execution_count": null,
   "id": "9342f8ff",
   "metadata": {},
   "outputs": [],
   "source": []
  },
  {
   "cell_type": "markdown",
   "id": "6640d62a",
   "metadata": {},
   "source": [
    "12. Sort a list in descending order."
   ]
  },
  {
   "cell_type": "code",
   "execution_count": 31,
   "id": "9064f30f",
   "metadata": {},
   "outputs": [
    {
     "name": "stdout",
     "output_type": "stream",
     "text": [
      "[41, 37, 23, 22, 18, 15, 11, 10, 6, 2]\n"
     ]
    }
   ],
   "source": [
    "li = [11, 2, 23, 41, 15, 6, 37, 18, 22, 10]\n",
    "li.sort(reverse = True)\n",
    "print(li)"
   ]
  },
  {
   "cell_type": "code",
   "execution_count": null,
   "id": "972b3828",
   "metadata": {},
   "outputs": [],
   "source": []
  },
  {
   "cell_type": "markdown",
   "id": "134e697e",
   "metadata": {},
   "source": [
    "13. Create a list of even numbers from 1 to 20."
   ]
  },
  {
   "cell_type": "code",
   "execution_count": 32,
   "id": "67f0b53b",
   "metadata": {},
   "outputs": [
    {
     "name": "stdout",
     "output_type": "stream",
     "text": [
      "[2, 4, 6, 8, 10, 12, 14, 16, 18, 20]\n"
     ]
    }
   ],
   "source": [
    "li = []\n",
    "for i in range(1,21):\n",
    "    if i%2 == 0:\n",
    "        li.append(i)\n",
    "print(li)"
   ]
  },
  {
   "cell_type": "code",
   "execution_count": null,
   "id": "5b8ed54c",
   "metadata": {},
   "outputs": [],
   "source": []
  },
  {
   "cell_type": "markdown",
   "id": "90ef8ba4",
   "metadata": {},
   "source": [
    "14. Create a list of odd numbers from 1 to 20.\n"
   ]
  },
  {
   "cell_type": "code",
   "execution_count": 34,
   "id": "337a3de7",
   "metadata": {},
   "outputs": [
    {
     "name": "stdout",
     "output_type": "stream",
     "text": [
      "[1, 3, 5, 7, 9, 11, 13, 15, 17, 19]\n"
     ]
    }
   ],
   "source": [
    "li = []\n",
    "for i in range(1,21):\n",
    "    if i%2 != 0:\n",
    "        li.append(i)\n",
    "print(li)"
   ]
  },
  {
   "cell_type": "code",
   "execution_count": null,
   "id": "49cf8197",
   "metadata": {},
   "outputs": [],
   "source": []
  },
  {
   "cell_type": "markdown",
   "id": "3f260420",
   "metadata": {},
   "source": [
    "15. Find the sum of all elements in a list.\n"
   ]
  },
  {
   "cell_type": "code",
   "execution_count": 37,
   "id": "8724add8",
   "metadata": {},
   "outputs": [
    {
     "name": "stdout",
     "output_type": "stream",
     "text": [
      "100\n"
     ]
    }
   ],
   "source": [
    "li = [1, 3, 5, 7, 9, 11, 13, 15, 17, 19] # Sample list\n",
    "\n",
    "total = 0 # For counting\n",
    "\n",
    "# Iterate through the element of list\n",
    "# Adding the each of the Element\n",
    "for i in range(0,len(li)):\n",
    "    total = total + li[i]\n",
    "    \n",
    "print(total)"
   ]
  },
  {
   "cell_type": "code",
   "execution_count": null,
   "id": "768a14f1",
   "metadata": {},
   "outputs": [],
   "source": []
  },
  {
   "cell_type": "markdown",
   "id": "caadb6b6",
   "metadata": {},
   "source": [
    "16. Find the maximum value in a list."
   ]
  },
  {
   "cell_type": "code",
   "execution_count": 38,
   "id": "d3b21e81",
   "metadata": {},
   "outputs": [
    {
     "data": {
      "text/plain": [
       "19"
      ]
     },
     "execution_count": 38,
     "metadata": {},
     "output_type": "execute_result"
    }
   ],
   "source": [
    "li = [1, 3, 5, 7, 9, 11, 13, 15, 17, 19]\n",
    "max(li)"
   ]
  },
  {
   "cell_type": "code",
   "execution_count": null,
   "id": "aba947c3",
   "metadata": {},
   "outputs": [],
   "source": []
  },
  {
   "cell_type": "markdown",
   "id": "777fe767",
   "metadata": {},
   "source": [
    "17. Find the minimum value in a list.\n"
   ]
  },
  {
   "cell_type": "code",
   "execution_count": 39,
   "id": "13e6cc01",
   "metadata": {},
   "outputs": [
    {
     "data": {
      "text/plain": [
       "1"
      ]
     },
     "execution_count": 39,
     "metadata": {},
     "output_type": "execute_result"
    }
   ],
   "source": [
    "li = [1, 3, 5, 7, 9, 11, 13, 15, 17, 19]\n",
    "min(li)"
   ]
  },
  {
   "cell_type": "code",
   "execution_count": null,
   "id": "4263b596",
   "metadata": {},
   "outputs": [],
   "source": []
  },
  {
   "cell_type": "markdown",
   "id": "d2575da8",
   "metadata": {},
   "source": [
    "18. Create a list of squares of numbers from 1 to 10."
   ]
  },
  {
   "cell_type": "code",
   "execution_count": 42,
   "id": "6ec32253",
   "metadata": {},
   "outputs": [
    {
     "name": "stdout",
     "output_type": "stream",
     "text": [
      "[1, 4, 9, 16, 25, 36, 49, 64, 81, 100]\n"
     ]
    }
   ],
   "source": [
    "# Empty list to store the squares of the numbers\n",
    "li = []\n",
    "\n",
    "# Iterate through the number 1-10\n",
    "for i in range(1,11):\n",
    "    sq = i**2 # Squaring the number \n",
    "    li.append(sq) # Appending the number to the list\n",
    "    \n",
    "print(li)"
   ]
  },
  {
   "cell_type": "code",
   "execution_count": null,
   "id": "af9533e6",
   "metadata": {},
   "outputs": [],
   "source": []
  },
  {
   "cell_type": "markdown",
   "id": "5c6982a6",
   "metadata": {},
   "source": [
    "19. Create a list of random numbers."
   ]
  },
  {
   "cell_type": "code",
   "execution_count": 47,
   "id": "d7387831",
   "metadata": {},
   "outputs": [
    {
     "name": "stdout",
     "output_type": "stream",
     "text": [
      "[2.3898603873815665, 1.6101000103621912, 8.2176468576267, 1.5062854804727612, 7.426060925373799, 3.2182586558029707, 5.11724030384006, 3.437494172130774, 1.6021004797305518, 3.4112079338011396]\n"
     ]
    }
   ],
   "source": [
    "import random # Importing the random for taking random values\n",
    "li = [] # Empty list for the list of numbers\n",
    "num_random_values = 10 # Number of random numbers\n",
    "\n",
    "# Iterate to number of values\n",
    "for i in range(num_random_values):\n",
    "    # Random numbers from 1-11 but incliding 1 but excluding 11\n",
    "    random_number = random.uniform(1,11)\n",
    "    \n",
    "    li.append(random_number) # Appeding the values to the list\n",
    "    \n",
    "print(li)"
   ]
  },
  {
   "cell_type": "code",
   "execution_count": null,
   "id": "e2346684",
   "metadata": {},
   "outputs": [],
   "source": []
  },
  {
   "cell_type": "markdown",
   "id": "57c45223",
   "metadata": {},
   "source": [
    "20. Remove duplicates from a list.\n"
   ]
  },
  {
   "cell_type": "code",
   "execution_count": 4,
   "id": "7b024fbe",
   "metadata": {},
   "outputs": [
    {
     "name": "stdout",
     "output_type": "stream",
     "text": [
      "[1, 2, 3, 'hi', 4, 5, 6, 7, 8, 9, 10, 12, 11]\n"
     ]
    }
   ],
   "source": [
    "li = [1, 2, 3, 'hi', 4, 5, 6, 7, 8, 9, 10, 'hi', 12, 'hi', 11, 'hi'] # Sample string\n",
    "# Empty list to append the unique elements\n",
    "result = []\n",
    "\n",
    "# Iterate through the list\n",
    "for i in li:\n",
    "    # Adding the unique value in the empty list\n",
    "    if i not in result:\n",
    "        result.append(i)\n",
    "        \n",
    "print(result)"
   ]
  },
  {
   "cell_type": "code",
   "execution_count": null,
   "id": "1934127a",
   "metadata": {},
   "outputs": [],
   "source": []
  },
  {
   "cell_type": "markdown",
   "id": "512f0997",
   "metadata": {},
   "source": [
    "21. Find the common elements between two lists.\n"
   ]
  },
  {
   "cell_type": "code",
   "execution_count": 5,
   "id": "b8b3bfa5",
   "metadata": {},
   "outputs": [
    {
     "name": "stdout",
     "output_type": "stream",
     "text": [
      "{4, 5}\n"
     ]
    }
   ],
   "source": [
    "l1 = [1, 2, 3, 4, 5]\n",
    "l2 = [4, 5, 6, 7, 8]\n",
    "\n",
    "if (set(l1) & set(l2)):\n",
    "    print(set(l1) & set(l2))\n",
    "else:\n",
    "    print(\"No common elements\")"
   ]
  },
  {
   "cell_type": "code",
   "execution_count": null,
   "id": "e7769e67",
   "metadata": {},
   "outputs": [],
   "source": []
  },
  {
   "cell_type": "markdown",
   "id": "de18ec41",
   "metadata": {},
   "source": [
    "22. Find the difference between two lists.\n"
   ]
  },
  {
   "cell_type": "code",
   "execution_count": 14,
   "id": "eeb1a96f",
   "metadata": {},
   "outputs": [
    {
     "name": "stdout",
     "output_type": "stream",
     "text": [
      "[1, 2, 3]\n"
     ]
    }
   ],
   "source": [
    "l1 = [1, 2, 3, 4, 5]\n",
    "l2 = [4, 5, 6, 7, 8]\n",
    "difference = []\n",
    "\n",
    "\n",
    "for items in l1:\n",
    "    if items not in l2:\n",
    "        difference.append(items)\n",
    "        \n",
    "print(difference)"
   ]
  },
  {
   "cell_type": "code",
   "execution_count": null,
   "id": "6ff0f218",
   "metadata": {},
   "outputs": [],
   "source": []
  },
  {
   "cell_type": "code",
   "execution_count": null,
   "id": "42895cd4",
   "metadata": {},
   "outputs": [],
   "source": []
  },
  {
   "cell_type": "markdown",
   "id": "b20bde0e",
   "metadata": {},
   "source": [
    "23. Merge two lists."
   ]
  },
  {
   "cell_type": "code",
   "execution_count": 11,
   "id": "bfb1459c",
   "metadata": {},
   "outputs": [
    {
     "name": "stdout",
     "output_type": "stream",
     "text": [
      "[1, 2, 3, 4, 5, 4, 5, 6, 7, 8]\n"
     ]
    }
   ],
   "source": [
    "l1 = [1, 2, 3, 4, 5]\n",
    "l2 = [4, 5, 6, 7, 8]\n",
    "\n",
    "l1.extend(l2)\n",
    "\n",
    "print(l1)\n"
   ]
  },
  {
   "cell_type": "code",
   "execution_count": 12,
   "id": "cfcf1fa4",
   "metadata": {},
   "outputs": [
    {
     "name": "stdout",
     "output_type": "stream",
     "text": [
      "[1, 2, 3, 4, 5, 4, 5, 6, 7, 8]\n"
     ]
    }
   ],
   "source": [
    "l1 = [1, 2, 3, 4, 5]\n",
    "l2 = [4, 5, 6, 7, 8]\n",
    "\n",
    "l3 = l1 + l2\n",
    "print(str(l3))"
   ]
  },
  {
   "cell_type": "code",
   "execution_count": null,
   "id": "5e3641cb",
   "metadata": {},
   "outputs": [],
   "source": []
  },
  {
   "cell_type": "markdown",
   "id": "3560bb61",
   "metadata": {},
   "source": [
    "24. Multiply all elements in a list by 2.\n"
   ]
  },
  {
   "cell_type": "code",
   "execution_count": 3,
   "id": "05c7c38e",
   "metadata": {},
   "outputs": [
    {
     "name": "stdout",
     "output_type": "stream",
     "text": [
      "[2, 4, 6, 8, 10, 8, 10, 12, 14, 16]\n"
     ]
    }
   ],
   "source": [
    "li = [1, 2, 3, 4, 5, 4, 5, 6, 7, 8] # Sample list\n",
    "Result = [] # For storing result\n",
    "\n",
    "# Iterate through the list\n",
    "for i in li:\n",
    "    Result.append(i*2)\n",
    "    \n",
    "print(Result)"
   ]
  },
  {
   "cell_type": "code",
   "execution_count": null,
   "id": "8e03a964",
   "metadata": {},
   "outputs": [],
   "source": []
  },
  {
   "cell_type": "markdown",
   "id": "17baf4e8",
   "metadata": {},
   "source": [
    "25. Filter out all even numbers from a list."
   ]
  },
  {
   "cell_type": "code",
   "execution_count": 5,
   "id": "7078dc81",
   "metadata": {},
   "outputs": [
    {
     "name": "stdout",
     "output_type": "stream",
     "text": [
      "[2, 4, 6, 8, 10]\n"
     ]
    }
   ],
   "source": [
    "li = [1, 2, 3, 4, 5, 6, 7, 8, 9, 10]\n",
    "even = []\n",
    "for i in li:\n",
    "    if i%2==0:\n",
    "        even.append(i)\n",
    "print(even)"
   ]
  },
  {
   "cell_type": "code",
   "execution_count": null,
   "id": "aee617c2",
   "metadata": {},
   "outputs": [],
   "source": []
  },
  {
   "cell_type": "markdown",
   "id": "ab37a607",
   "metadata": {},
   "source": [
    "26. Convert a list of strings to a list of integers.\n"
   ]
  },
  {
   "cell_type": "code",
   "execution_count": 12,
   "id": "788e9b1f",
   "metadata": {},
   "outputs": [
    {
     "name": "stdout",
     "output_type": "stream",
     "text": [
      "<class 'int'>\n",
      "<class 'int'>\n",
      "<class 'int'>\n",
      "<class 'int'>\n",
      "<class 'int'>\n",
      "<class 'int'>\n",
      "<class 'int'>\n",
      "<class 'int'>\n",
      "<class 'int'>\n",
      "<class 'int'>\n",
      "[1, 2, 3, 4, 5, 6, 7, 8, 9, 10]\n"
     ]
    }
   ],
   "source": [
    "li = ['1', '2', '3', '4', '5', '6', '7', '8', '9', '10']\n",
    "integer = []\n",
    "for i in li:\n",
    "    convert = int(i)\n",
    "    integer.append(convert)\n",
    "    print(type(convert))\n",
    "print(integer)\n"
   ]
  },
  {
   "cell_type": "code",
   "execution_count": null,
   "id": "bc69729f",
   "metadata": {},
   "outputs": [],
   "source": []
  },
  {
   "cell_type": "markdown",
   "id": "7f95830a",
   "metadata": {},
   "source": [
    "27. Convert a list of integers to a list of strings.\n"
   ]
  },
  {
   "cell_type": "code",
   "execution_count": 13,
   "id": "2d8619ac",
   "metadata": {},
   "outputs": [
    {
     "name": "stdout",
     "output_type": "stream",
     "text": [
      "<class 'str'>\n",
      "<class 'str'>\n",
      "<class 'str'>\n",
      "<class 'str'>\n",
      "<class 'str'>\n",
      "<class 'str'>\n",
      "<class 'str'>\n",
      "<class 'str'>\n",
      "<class 'str'>\n",
      "<class 'str'>\n",
      "['1', '2', '3', '4', '5', '6', '7', '8', '9', '10']\n"
     ]
    }
   ],
   "source": [
    "li = [1, 2, 3, 4, 5, 6, 7, 8, 9, 10]\n",
    "string = []\n",
    "for i in li:\n",
    "    convert = str(i)\n",
    "    string.append(convert)\n",
    "    print(type(convert))\n",
    "print(string)"
   ]
  },
  {
   "cell_type": "code",
   "execution_count": null,
   "id": "2686dddb",
   "metadata": {},
   "outputs": [],
   "source": []
  },
  {
   "cell_type": "markdown",
   "id": "29d82cb2",
   "metadata": {},
   "source": [
    "28. Flatten a nested list.\n"
   ]
  },
  {
   "cell_type": "code",
   "execution_count": null,
   "id": "cf73d859",
   "metadata": {},
   "outputs": [],
   "source": []
  },
  {
   "cell_type": "markdown",
   "id": "c242adde",
   "metadata": {},
   "source": [
    "29. Create a list of the first 10 Fibonacci numbers.\n"
   ]
  },
  {
   "cell_type": "code",
   "execution_count": 1,
   "id": "8e643807",
   "metadata": {},
   "outputs": [
    {
     "name": "stdout",
     "output_type": "stream",
     "text": [
      "1\n",
      "2\n",
      "3\n",
      "5\n",
      "8\n",
      "13\n",
      "21\n",
      "34\n",
      "55\n",
      "89\n",
      "144\n"
     ]
    }
   ],
   "source": [
    "n = 10\n",
    "a = 0\n",
    "b = 1\n",
    "\n",
    "while n>=0:\n",
    "    c = a + b\n",
    "    a = b\n",
    "    b = c\n",
    "    n = n-1\n",
    "    \n",
    "    print(c)"
   ]
  },
  {
   "cell_type": "code",
   "execution_count": null,
   "id": "870b40e8",
   "metadata": {},
   "outputs": [],
   "source": []
  },
  {
   "cell_type": "markdown",
   "id": "c2fc01c0",
   "metadata": {},
   "source": [
    "30. Check if a list is sorted."
   ]
  },
  {
   "cell_type": "code",
   "execution_count": 5,
   "id": "ed6957e0",
   "metadata": {},
   "outputs": [
    {
     "name": "stdout",
     "output_type": "stream",
     "text": [
      "The list is sorted\n"
     ]
    }
   ],
   "source": [
    "l = [1, 2, 3, 4, 5, 4, 5, 6, 7, 8]\n",
    "\n",
    "sorted_check = True\n",
    "\n",
    "for i in range(len(l)-1):\n",
    "    if l[i] > l[i+1]:\n",
    "        sorted_check = False\n",
    "\n",
    "    \n",
    "if sorted_check:\n",
    "    print(\"The list is sorted\")\n",
    "else:\n",
    "    print(\"The list is not sorted\")\n",
    "        "
   ]
  },
  {
   "cell_type": "markdown",
   "id": "f9f8671a",
   "metadata": {},
   "source": [
    "31. Rotate a list to the left by 'n' positions."
   ]
  },
  {
   "cell_type": "code",
   "execution_count": 9,
   "id": "08b7d0aa",
   "metadata": {},
   "outputs": [
    {
     "name": "stdout",
     "output_type": "stream",
     "text": [
      "Enter the position: 2\n"
     ]
    },
    {
     "data": {
      "text/plain": [
       "[3, 4, 5, 1, 2]"
      ]
     },
     "execution_count": 9,
     "metadata": {},
     "output_type": "execute_result"
    }
   ],
   "source": [
    "def rotate_left(original_string, n):\n",
    "    return original_string[n:] + original_string[:n]\n",
    "\n",
    "original_string = [1, 2, 3, 4, 5]\n",
    "n = int(input(\"Enter the position: \"))\n",
    "rotate_left(original_string,n)\n",
    "\n"
   ]
  },
  {
   "cell_type": "code",
   "execution_count": null,
   "id": "9b8b79fc",
   "metadata": {},
   "outputs": [],
   "source": [
    "32. Rotate a list to the right by `n` positions.\n"
   ]
  },
  {
   "cell_type": "code",
   "execution_count": 8,
   "id": "b6156f90",
   "metadata": {},
   "outputs": [
    {
     "name": "stdout",
     "output_type": "stream",
     "text": [
      "Enter the position: 2\n"
     ]
    },
    {
     "data": {
      "text/plain": [
       "[4, 5, 1, 2, 3]"
      ]
     },
     "execution_count": 8,
     "metadata": {},
     "output_type": "execute_result"
    }
   ],
   "source": [
    "def rotate_right(original_string, n):\n",
    "    return original_string[-n:] + original_string[:-n]\n",
    "#     print(original_string[-n:])\n",
    "\n",
    "original_string = [1, 2, 3, 4, 5]\n",
    "n = int(input(\"Enter the position: \"))\n",
    "rotate_right(original_string,n)\n"
   ]
  },
  {
   "cell_type": "code",
   "execution_count": null,
   "id": "df1024a6",
   "metadata": {},
   "outputs": [],
   "source": []
  },
  {
   "cell_type": "code",
   "execution_count": null,
   "id": "07781490",
   "metadata": {},
   "outputs": [],
   "source": []
  },
  {
   "cell_type": "code",
   "execution_count": null,
   "id": "a1250606",
   "metadata": {},
   "outputs": [],
   "source": []
  },
  {
   "cell_type": "code",
   "execution_count": null,
   "id": "2e6862ae",
   "metadata": {},
   "outputs": [],
   "source": []
  },
  {
   "cell_type": "code",
   "execution_count": null,
   "id": "1505c915",
   "metadata": {},
   "outputs": [],
   "source": []
  },
  {
   "cell_type": "code",
   "execution_count": null,
   "id": "295f414d",
   "metadata": {},
   "outputs": [],
   "source": []
  }
 ],
 "metadata": {
  "kernelspec": {
   "display_name": "Python 3 (ipykernel)",
   "language": "python",
   "name": "python3"
  },
  "language_info": {
   "codemirror_mode": {
    "name": "ipython",
    "version": 3
   },
   "file_extension": ".py",
   "mimetype": "text/x-python",
   "name": "python",
   "nbconvert_exporter": "python",
   "pygments_lexer": "ipython3",
   "version": "3.11.4"
  }
 },
 "nbformat": 4,
 "nbformat_minor": 5
}
