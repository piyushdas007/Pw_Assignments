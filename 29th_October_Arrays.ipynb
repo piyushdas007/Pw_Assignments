{
 "cells": [
  {
   "cell_type": "markdown",
   "id": "ec1d57a9",
   "metadata": {},
   "source": [
    "1. Given an array, check if it contains any duplicates or not. \n",
    "\n",
    "    arr = [1, 2, 4, 2, 5, 9] \n",
    "\n",
    "    Output = True"
   ]
  },
  {
   "cell_type": "code",
   "execution_count": 12,
   "id": "06ac7ab9",
   "metadata": {},
   "outputs": [
    {
     "name": "stdout",
     "output_type": "stream",
     "text": [
      "True\n"
     ]
    }
   ],
   "source": [
    "## Checking Duplicates\n",
    "## time complexity : O(n)\n",
    "## space complexity : O(1)\n",
    "def dup_check(arr):\n",
    "    check = set()\n",
    "    for i in arr:\n",
    "        if i in check:\n",
    "            return True\n",
    "        check.add(i)\n",
    "    return False\n",
    "\n",
    "## Driver code\n",
    "arr = [1, 2, 4, 2, 5, 9]\n",
    "result = dup_check(arr)\n",
    "print(result)"
   ]
  },
  {
   "cell_type": "code",
   "execution_count": null,
   "id": "4dd21d09",
   "metadata": {},
   "outputs": [],
   "source": []
  },
  {
   "cell_type": "markdown",
   "id": "c7c20d29",
   "metadata": {},
   "source": [
    "2. Given an array and an integer k, rotate the array to the right by k steps. \n",
    "\n",
    "    arr = [1, 2, 3, 4, 5, 6, 7] k = 3 \n",
    "\n",
    "    Output = [5, 6, 7, 1, 2, 3, 4]"
   ]
  },
  {
   "cell_type": "code",
   "execution_count": 22,
   "id": "5023bae1",
   "metadata": {},
   "outputs": [
    {
     "name": "stdout",
     "output_type": "stream",
     "text": [
      "[5, 6, 7, 1, 2, 3, 4]\n"
     ]
    }
   ],
   "source": [
    "## rotated array\n",
    "## time complexity : O(1)\n",
    "## space complexity : O(1)\n",
    "def rotated_array(arr, k):\n",
    "    ## rotate the array to the right by k steps\n",
    "    arr = arr[-k:] + arr[:-k]\n",
    "    return arr\n",
    "    \n",
    "## Driver code\n",
    "arr = [1, 2, 3, 4, 5, 6, 7] \n",
    "k = 3\n",
    "result = rotated_array(arr, k)\n",
    "print(result)"
   ]
  },
  {
   "cell_type": "code",
   "execution_count": null,
   "id": "3ecca894",
   "metadata": {},
   "outputs": [],
   "source": []
  },
  {
   "cell_type": "markdown",
   "id": "20f99f88",
   "metadata": {},
   "source": [
    "3. Reverse the given array in-place, means without using any extra data structure. \n",
    "\n",
    "    arr = [2, 4, 5, 7, 9, 12] \n",
    "\n",
    "    Output = [12, 9, 7, 5, 4, 2]"
   ]
  },
  {
   "cell_type": "code",
   "execution_count": 25,
   "id": "a20c82cb",
   "metadata": {},
   "outputs": [
    {
     "name": "stdout",
     "output_type": "stream",
     "text": [
      "[12, 9, 7, 5, 4, 2]\n"
     ]
    }
   ],
   "source": [
    "## Reverse the array in-place\n",
    "## time complexity : O(1)\n",
    "## space complexity : O(1)\n",
    "def reversed_array(arr):\n",
    "    arr = arr[::-1]\n",
    "    print(arr)\n",
    "    \n",
    "## Driver code\n",
    "arr = [2, 4, 5, 7, 9, 12]\n",
    "reversed_array(arr)"
   ]
  },
  {
   "cell_type": "code",
   "execution_count": null,
   "id": "7ce20a5d",
   "metadata": {},
   "outputs": [],
   "source": []
  },
  {
   "cell_type": "markdown",
   "id": "d130c1e5",
   "metadata": {},
   "source": [
    "4. Given an array of integers, find the maximum element in an array\n",
    "\n",
    "     arr = [10, 5, 20, 8, 15]\n",
    "\n",
    "     Output = 20"
   ]
  },
  {
   "cell_type": "code",
   "execution_count": 30,
   "id": "3c7ac0e3",
   "metadata": {},
   "outputs": [
    {
     "name": "stdout",
     "output_type": "stream",
     "text": [
      "20\n"
     ]
    }
   ],
   "source": [
    "## Find maximum in the array\n",
    "## time complexity : O(n)\n",
    "## space complexity : O(1)\n",
    "def find_maximum(arr):\n",
    "    max_element = arr[0]\n",
    "    ## iterate through the arrary\n",
    "    for i in arr:\n",
    "        # finding maximum elements--->\n",
    "        if i > max_element:\n",
    "            max_element = i\n",
    "    return max_element\n",
    "\n",
    "## Example code\n",
    "arr = [10, 5, 20, 8, 15]\n",
    "result = find_maximum(arr)\n",
    "print(result)"
   ]
  },
  {
   "cell_type": "code",
   "execution_count": null,
   "id": "dacd0dcb",
   "metadata": {},
   "outputs": [],
   "source": []
  },
  {
   "cell_type": "markdown",
   "id": "c26af025",
   "metadata": {},
   "source": [
    "5. Given a sorted array, remove the duplicate element without using any extra data structure. \n",
    "\n",
    "    arr = [1, 1, 2, 2, 2, 3, 3, 4, 4, 4, 5, 5] \n",
    "\n",
    "    Output = [1, 2, 3, 4, 5]\n"
   ]
  },
  {
   "cell_type": "code",
   "execution_count": 44,
   "id": "03ec19ba",
   "metadata": {},
   "outputs": [
    {
     "name": "stdout",
     "output_type": "stream",
     "text": [
      "[1, 2, 3, 4, 5]\n"
     ]
    }
   ],
   "source": [
    "## Romoving the duplicate elements from the array\n",
    "## time complexity : O(n)\n",
    "## space complexity : O(1)\n",
    "def remove_duplicate(arr):\n",
    "    # Initialize the index for the unique element\n",
    "    unique_index = 1\n",
    "\n",
    "    # Iterate through the array starting from the second element\n",
    "    for i in range(1, len(arr)):\n",
    "        # If the current element is different from the previous unique element\n",
    "        if arr[i] != arr[unique_index - 1]:\n",
    "            # Update the next unique element\n",
    "            arr[unique_index] = arr[i]\n",
    "            unique_index += 1\n",
    "\n",
    "    # The unique elements are now in the beginning of the array\n",
    "    # The rest can be truncated to remove duplicates\n",
    "    arr[:] = arr[:unique_index]\n",
    "    return arr\n",
    "    \n",
    "## Example \n",
    "arr = [1, 1, 2, 2, 2, 3, 3, 4, 4, 4, 5, 5]\n",
    "result = remove_duplicate(arr)\n",
    "print(result)"
   ]
  },
  {
   "cell_type": "code",
   "execution_count": null,
   "id": "0465ab2f",
   "metadata": {},
   "outputs": [],
   "source": []
  }
 ],
 "metadata": {
  "kernelspec": {
   "display_name": "Python 3 (ipykernel)",
   "language": "python",
   "name": "python3"
  },
  "language_info": {
   "codemirror_mode": {
    "name": "ipython",
    "version": 3
   },
   "file_extension": ".py",
   "mimetype": "text/x-python",
   "name": "python",
   "nbconvert_exporter": "python",
   "pygments_lexer": "ipython3",
   "version": "3.11.4"
  }
 },
 "nbformat": 4,
 "nbformat_minor": 5
}
