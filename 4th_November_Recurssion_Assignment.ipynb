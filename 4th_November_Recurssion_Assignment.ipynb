{
 "cells": [
  {
   "cell_type": "markdown",
   "id": "ef98f778",
   "metadata": {},
   "source": [
    "# Recursion Assignment Questions"
   ]
  },
  {
   "cell_type": "markdown",
   "id": "35233d8f",
   "metadata": {},
   "source": [
    "Q.1 Can you explain the logic and working of the Tower of Hanoi algorithm by writing a Java program? \n",
    "\n",
    "How does the recursion work, and how are the movements of disks between rods accomplished?"
   ]
  },
  {
   "cell_type": "code",
   "execution_count": 1,
   "id": "31068bd1",
   "metadata": {},
   "outputs": [
    {
     "name": "stdout",
     "output_type": "stream",
     "text": [
      "31\n"
     ]
    }
   ],
   "source": [
    "## -------Tower of Hanoi--------\n",
    "'''lets assume that there is 'n' number of disks and it starts from pole 'A' and the distination \n",
    "        is pole 'C' with the help of pole 'B'.\n",
    "    ''' \n",
    "\n",
    "## Creating a function \n",
    "def moves(n,A,C,B):\n",
    "    # base case condition\n",
    "    if n == 1:\n",
    "        return 1\n",
    "    \n",
    "    # move n-1 from A -> B,then moving 1 biggest disk A -> C then n-1 disks from B->C --\n",
    "    return moves(n-1,A,B,C) + 1 + moves(n-1,B,C,A)\n",
    "\n",
    "print(moves(5,'A','B','C'))"
   ]
  },
  {
   "cell_type": "code",
   "execution_count": null,
   "id": "97b5e9c6",
   "metadata": {},
   "outputs": [],
   "source": []
  },
  {
   "cell_type": "markdown",
   "id": "b4321028",
   "metadata": {},
   "source": [
    "Q.2 Given two strings word1 and word2, return the minimum number of operations required to convert word1 \n",
    "\n",
    "to word2.\n",
    "\n",
    "Example 1:\n",
    "\n",
    " Input: word1 = \"horse\", word2 = \"ros\"\n",
    "\n",
    " Output: 3\n",
    "\n",
    " Explanation: \n",
    "\n",
    " horse -> rorse (replace 'h' with 'r')\n",
    "\n",
    " rorse -> rose (remove 'r')\n",
    "\n",
    " rose -> ros (remove 'e')\n",
    "\n",
    "Example 2:\n",
    "\n",
    " Input: word1 = \"intention\", word2 = \"execution\"\n",
    "\n",
    " Output: 5\n",
    "\n",
    " Explanation: \n",
    "\n",
    " intention -> inention (remove 't')\n",
    "\n",
    " inention -> enention (replace 'i' with 'e')\n",
    "\n",
    " enention -> exention (replace 'n' with 'x')\n",
    "\n",
    " exention -> exection (replace 'n' with 'c')\n",
    "\n",
    " exection -> execution (insert 'u')"
   ]
  },
  {
   "cell_type": "code",
   "execution_count": 2,
   "id": "92715461",
   "metadata": {},
   "outputs": [
    {
     "data": {
      "text/plain": [
       "5"
      ]
     },
     "execution_count": 2,
     "metadata": {},
     "output_type": "execute_result"
    }
   ],
   "source": [
    "## Operations to convert word1 to word2\n",
    "\n",
    "''' here 3 types of operations will take place--->\n",
    "    1. Insert\n",
    "    2. Remove\n",
    "    3. Replace\n",
    "    \n",
    "    # in above example\n",
    "    horse --> rorse(replace 'h' with 'r')\n",
    "    rorse --> rose(move 'r')\n",
    "    rose --> ros(remove 'e')\n",
    "'''\n",
    "\n",
    "def noOfOperation(word1,word2,m,n): # m is length of word1 and n is length of word2\n",
    "    \n",
    "    # if the word1 is empty then insert all the characters of word2 into word1\n",
    "    if m == 0:\n",
    "        return n\n",
    "    \n",
    "    # if the word2 is empty then insert all the characters of word1 into word2\n",
    "    if n == 0:\n",
    "        return m\n",
    "    \n",
    "    # if last character of the word1 and word2 are same ignore the character \n",
    "    # and count for remaining string\n",
    "    if word1[m-1] == word2[n-1]:\n",
    "        return noOfOperation(word1,word2,m-1,n-1)\n",
    "    \n",
    "    return 1+min(noOfOperation(word1,word2,m,n-1), # insert\n",
    "                noOfOperation(word1,word2,m-1,n), # remove\n",
    "                noOfOperation(word1,word2,m-1,n-1)) # replace\n",
    "\n",
    "## Driver Code\n",
    "word1 = \"intention\"\n",
    "word2 = \"execution\"\n",
    "noOfOperation(word1,word2,len(word1),len(word2))"
   ]
  },
  {
   "cell_type": "code",
   "execution_count": null,
   "id": "e07b15e4",
   "metadata": {},
   "outputs": [],
   "source": []
  },
  {
   "cell_type": "markdown",
   "id": "6303827d",
   "metadata": {},
   "source": [
    "Q. 3 Print the max value of the array [ 13, 1, -3, 22, 5]"
   ]
  },
  {
   "cell_type": "code",
   "execution_count": 10,
   "id": "c10cf77e",
   "metadata": {},
   "outputs": [
    {
     "data": {
      "text/plain": [
       "22"
      ]
     },
     "execution_count": 10,
     "metadata": {},
     "output_type": "execute_result"
    }
   ],
   "source": [
    "# defining a function\n",
    "def maxValue(arr,n):\n",
    "    \n",
    "    # Base case condition\n",
    "    # if there is only one element then the max value is the element\n",
    "    if len(arr) == 1:\n",
    "        return arr[0]\n",
    "    # find the max in rest of the array\n",
    "    max_in_rest = maxValue(arr[1:],n-1)\n",
    "\n",
    "    # comparing the first element to rest of the array\n",
    "    \n",
    "    return max(arr[0],max_in_rest)\n",
    "\n",
    "## Driver Code\n",
    "arr = [ 13, 1, -3, 22, 5]\n",
    "maxValue(arr,len(arr))"
   ]
  },
  {
   "cell_type": "code",
   "execution_count": null,
   "id": "d2dad8e0",
   "metadata": {},
   "outputs": [],
   "source": []
  },
  {
   "cell_type": "markdown",
   "id": "2cea0738-a156-42f5-958d-52620eb25194",
   "metadata": {},
   "source": [
    "Q.4 Find the sum of the values of the array [92, 23, 15, -20, 10]."
   ]
  },
  {
   "cell_type": "code",
   "execution_count": 13,
   "id": "0a4f21b3-7744-4dbb-8087-26fe61ac4283",
   "metadata": {},
   "outputs": [
    {
     "data": {
      "text/plain": [
       "120"
      ]
     },
     "execution_count": 13,
     "metadata": {},
     "output_type": "execute_result"
    }
   ],
   "source": [
    "## Defining the function\n",
    "def sumArr(arr,n):\n",
    "    # Base case condition\n",
    "    # if there is only one element then the sum value is the element\n",
    "    if n == 1:\n",
    "        return arr[0]\n",
    "\n",
    "    # Doing sum of rest of the elements\n",
    "    # Taking the first element in the rest array with recurssion\n",
    "    sum_of_rest = sumArr(arr[1:],n-1)\n",
    "\n",
    "    # Adding the first and the rest of the elements\n",
    "    return arr[0]+sum_of_rest\n",
    "\n",
    "\n",
    "## Driver code\n",
    "arr = [92, 23, 15, -20, 10]\n",
    "sumArr(arr,len(arr))"
   ]
  },
  {
   "cell_type": "code",
   "execution_count": null,
   "id": "c247d051-2cf7-477e-abff-51c4fdb7a671",
   "metadata": {},
   "outputs": [],
   "source": []
  }
 ],
 "metadata": {
  "kernelspec": {
   "display_name": "Python 3 (ipykernel)",
   "language": "python",
   "name": "python3"
  },
  "language_info": {
   "codemirror_mode": {
    "name": "ipython",
    "version": 3
   },
   "file_extension": ".py",
   "mimetype": "text/x-python",
   "name": "python",
   "nbconvert_exporter": "python",
   "pygments_lexer": "ipython3",
   "version": "3.11.4"
  }
 },
 "nbformat": 4,
 "nbformat_minor": 5
}
