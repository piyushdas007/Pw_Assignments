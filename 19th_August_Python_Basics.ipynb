{
 "cells": [
  {
   "cell_type": "markdown",
   "id": "0227c6e5",
   "metadata": {},
   "source": [
    "# TOPIC: Python Basics Variable"
   ]
  },
  {
   "cell_type": "markdown",
   "id": "ee9824ef",
   "metadata": {},
   "source": [
    "1. Declare two variables, `x` and `y`, and assign them integer values.\n",
    "    Swap the values of these variables without using any temporary\n",
    "    variable."
   ]
  },
  {
   "cell_type": "code",
   "execution_count": 1,
   "id": "7feb1496",
   "metadata": {},
   "outputs": [],
   "source": [
    "x = 10\n",
    "y = 12"
   ]
  },
  {
   "cell_type": "code",
   "execution_count": 2,
   "id": "7abf306f",
   "metadata": {},
   "outputs": [],
   "source": [
    "x, y = y, x"
   ]
  },
  {
   "cell_type": "raw",
   "id": "28cdb64b",
   "metadata": {},
   "source": [
    "# Here the x is assigned to y and y is assigned to x...\n",
    "'''\n",
    "if we do,\n",
    "x=y \n",
    "y=x \n",
    "then, the value of x will be changed to 12 but value of y will remain\n",
    "12 because the x has assigned the value of y so the x is 12 now. But we\n",
    "have to swap the value of x and y, so we can write it like x,y = y,x.'''"
   ]
  },
  {
   "cell_type": "code",
   "execution_count": 3,
   "id": "3e735911",
   "metadata": {},
   "outputs": [
    {
     "data": {
      "text/plain": [
       "12"
      ]
     },
     "execution_count": 3,
     "metadata": {},
     "output_type": "execute_result"
    }
   ],
   "source": [
    "x"
   ]
  },
  {
   "cell_type": "code",
   "execution_count": 4,
   "id": "ad2ffcbf",
   "metadata": {},
   "outputs": [
    {
     "data": {
      "text/plain": [
       "10"
      ]
     },
     "execution_count": 4,
     "metadata": {},
     "output_type": "execute_result"
    }
   ],
   "source": [
    "y"
   ]
  },
  {
   "cell_type": "code",
   "execution_count": null,
   "id": "404befce",
   "metadata": {},
   "outputs": [],
   "source": []
  },
  {
   "cell_type": "markdown",
   "id": "a789f15b",
   "metadata": {},
   "source": [
    "2. Create a program that calculates the area of a rectangle. Take the\n",
    "length and width as inputs from the user and store them in variables.\n",
    "Calculate and display the area."
   ]
  },
  {
   "cell_type": "code",
   "execution_count": 7,
   "id": "46e44275",
   "metadata": {},
   "outputs": [
    {
     "name": "stdout",
     "output_type": "stream",
     "text": [
      "length :12.4\n",
      "width :56.45\n"
     ]
    }
   ],
   "source": [
    "length = float(input(\"length :\"))\n",
    "width = float(input(\"width :\"))"
   ]
  },
  {
   "cell_type": "code",
   "execution_count": 8,
   "id": "f7d4228b",
   "metadata": {},
   "outputs": [
    {
     "name": "stdout",
     "output_type": "stream",
     "text": [
      "Area of Rectangle :  699.98\n"
     ]
    }
   ],
   "source": [
    "A = length * width\n",
    "print(f\"Area of Rectangle : \",A)"
   ]
  },
  {
   "cell_type": "code",
   "execution_count": null,
   "id": "b70f63e3",
   "metadata": {},
   "outputs": [],
   "source": []
  },
  {
   "cell_type": "markdown",
   "id": "e7e60ddd",
   "metadata": {},
   "source": [
    "3. Write a Python program that converts temperature from Celsius to\n",
    "Fahrenheit. Take the temperature in Celsius as input, store it in a\n",
    "variable, convert it to Fahrenheit, and display the result."
   ]
  },
  {
   "cell_type": "code",
   "execution_count": 10,
   "id": "51e8941b",
   "metadata": {},
   "outputs": [
    {
     "name": "stdout",
     "output_type": "stream",
     "text": [
      "Temperature in Celsius : 12\n"
     ]
    }
   ],
   "source": [
    "Temp = int(input('Temperature in Celsius : '))"
   ]
  },
  {
   "cell_type": "code",
   "execution_count": 13,
   "id": "7dd09055",
   "metadata": {},
   "outputs": [],
   "source": [
    "Fahr = Temp * (9/5) + 32"
   ]
  },
  {
   "cell_type": "code",
   "execution_count": 14,
   "id": "66bcdaa1",
   "metadata": {},
   "outputs": [
    {
     "name": "stdout",
     "output_type": "stream",
     "text": [
      "Temperature in Fahrenheit :  53.6\n"
     ]
    }
   ],
   "source": [
    "print(f\"Temperature in Fahrenheit : \", Fahr)"
   ]
  },
  {
   "cell_type": "code",
   "execution_count": null,
   "id": "c1196e45",
   "metadata": {},
   "outputs": [],
   "source": []
  },
  {
   "cell_type": "markdown",
   "id": "755ec63e",
   "metadata": {},
   "source": [
    "# TOPIC: String Based Questions"
   ]
  },
  {
   "cell_type": "markdown",
   "id": "a4cf9937",
   "metadata": {},
   "source": [
    "1. Write a Python program that takes a string as input and prints the length of\n",
    "the string."
   ]
  },
  {
   "cell_type": "code",
   "execution_count": 21,
   "id": "ae2670bf",
   "metadata": {},
   "outputs": [
    {
     "name": "stdout",
     "output_type": "stream",
     "text": [
      "Python\n"
     ]
    }
   ],
   "source": [
    "st = input('String')"
   ]
  },
  {
   "cell_type": "code",
   "execution_count": 22,
   "id": "8b960e38",
   "metadata": {},
   "outputs": [
    {
     "name": "stdout",
     "output_type": "stream",
     "text": [
      "6\n"
     ]
    }
   ],
   "source": [
    "print(len(st))"
   ]
  },
  {
   "cell_type": "code",
   "execution_count": null,
   "id": "36a78b99",
   "metadata": {},
   "outputs": [],
   "source": []
  },
  {
   "cell_type": "markdown",
   "id": "456397e8",
   "metadata": {},
   "source": [
    "2. Create a program that takes a sentence from the user and counts the\n",
    "number of vowels (a, e, i, o, u) in the string."
   ]
  },
  {
   "cell_type": "code",
   "execution_count": 48,
   "id": "fa99e187",
   "metadata": {},
   "outputs": [
    {
     "name": "stdout",
     "output_type": "stream",
     "text": [
      "Enter a sentence :python is a best language\n",
      "8\n"
     ]
    }
   ],
   "source": [
    "sen = input(\"Enter a sentence :\" ).lower()\n",
    "count = sen.count(\"a\") + \\\n",
    "        sen.count(\"e\") + \\\n",
    "        sen.count(\"i\") + \\\n",
    "        sen.count(\"o\") + \\\n",
    "        sen.count(\"u\")\n",
    "        \n",
    "print(count)"
   ]
  },
  {
   "cell_type": "code",
   "execution_count": null,
   "id": "64d43f08",
   "metadata": {},
   "outputs": [],
   "source": []
  },
  {
   "cell_type": "markdown",
   "id": "ced79f66",
   "metadata": {},
   "source": [
    "3. Given a string, reverse the order of characters using string slicing and\n",
    "print the reversed string."
   ]
  },
  {
   "cell_type": "code",
   "execution_count": 26,
   "id": "2063152e",
   "metadata": {},
   "outputs": [
    {
     "name": "stdout",
     "output_type": "stream",
     "text": [
      "3. Given a string, reverse the order of characters using string slicing and print the reversed string.\n"
     ]
    }
   ],
   "source": [
    "st1 = input(\"\")"
   ]
  },
  {
   "cell_type": "code",
   "execution_count": 28,
   "id": "24d08ccf",
   "metadata": {},
   "outputs": [
    {
     "name": "stdout",
     "output_type": "stream",
     "text": [
      ".gnirts desrever eht tnirp dna gnicils gnirts gnisu sretcarahc fo redro eht esrever ,gnirts a neviG .3\n"
     ]
    }
   ],
   "source": [
    "print(st1[::-1])"
   ]
  },
  {
   "cell_type": "code",
   "execution_count": null,
   "id": "5879b8e0",
   "metadata": {},
   "outputs": [],
   "source": []
  },
  {
   "cell_type": "markdown",
   "id": "c4820949",
   "metadata": {},
   "source": [
    "4. Write a program that takes a string as input and checks if it is a\n",
    "palindrome (reads the same forwards and backwards).\n"
   ]
  },
  {
   "cell_type": "code",
   "execution_count": 34,
   "id": "cdc28ac7",
   "metadata": {},
   "outputs": [
    {
     "name": "stdout",
     "output_type": "stream",
     "text": [
      "Nayan\n",
      "yes it is palindrome\n"
     ]
    }
   ],
   "source": [
    "st2 = input(\"Sting :\").lower()\n",
    "if st2 == st2[::-1]:\n",
    "    print(\"yes it is palindrome\")\n",
    "else:\n",
    "    print(\"no it is not palindrome\")"
   ]
  },
  {
   "cell_type": "code",
   "execution_count": null,
   "id": "fc56ff57",
   "metadata": {},
   "outputs": [],
   "source": []
  },
  {
   "cell_type": "markdown",
   "id": "44893e2a",
   "metadata": {},
   "source": [
    "5. Create a program that takes a string as input and removes all the\n",
    "spaces from it. Print the modified string without spaces.\n"
   ]
  },
  {
   "cell_type": "code",
   "execution_count": 35,
   "id": "a928e025",
   "metadata": {},
   "outputs": [
    {
     "name": "stdout",
     "output_type": "stream",
     "text": [
      "5. Create a program that takes a string as input and removes all the spaces from it. Print the modified string without spaces.\n",
      "5.Createaprogramthattakesastringasinputandremovesallthespacesfromit.Printthemodifiedstringwithoutspaces.\n"
     ]
    }
   ],
   "source": [
    "st3 = input(\"String :\")\n",
    "new = st3.replace(\" \",\"\")\n",
    "print(new)\n",
    "        "
   ]
  },
  {
   "cell_type": "code",
   "execution_count": null,
   "id": "75b5d32e",
   "metadata": {},
   "outputs": [],
   "source": []
  }
 ],
 "metadata": {
  "kernelspec": {
   "display_name": "Python 3 (ipykernel)",
   "language": "python",
   "name": "python3"
  },
  "language_info": {
   "codemirror_mode": {
    "name": "ipython",
    "version": 3
   },
   "file_extension": ".py",
   "mimetype": "text/x-python",
   "name": "python",
   "nbconvert_exporter": "python",
   "pygments_lexer": "ipython3",
   "version": "3.11.4"
  }
 },
 "nbformat": 4,
 "nbformat_minor": 5
}
